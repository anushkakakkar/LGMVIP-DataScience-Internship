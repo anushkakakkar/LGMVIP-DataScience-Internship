{
  "nbformat": 4,
  "nbformat_minor": 0,
  "metadata": {
    "colab": {
      "name": "Stock Price Prediction.ipynb",
      "provenance": [],
      "collapsed_sections": [],
      "authorship_tag": "ABX9TyNbA+WlwEa+u2mavCvvHFTR",
      "include_colab_link": true
    },
    "kernelspec": {
      "name": "python3",
      "display_name": "Python 3"
    },
    "language_info": {
      "name": "python"
    }
  },
  "cells": [
    {
      "cell_type": "markdown",
      "metadata": {
        "id": "view-in-github",
        "colab_type": "text"
      },
      "source": [
        "<a href=\"https://colab.research.google.com/github/anushkakakkar/LGMVIP-DataScience-Internship/blob/main/Stock_Price_Prediction.ipynb\" target=\"_parent\"><img src=\"https://colab.research.google.com/assets/colab-badge.svg\" alt=\"Open In Colab\"/></a>"
      ]
    },
    {
      "cell_type": "markdown",
      "source": [
        "# LetsGrowMore\n",
        "\n",
        "# Name : Anushka Kakkar\n",
        "\n",
        "# Task 02 :Stock Price Prediction\n",
        "\n",
        "# Level : Beginner level task"
      ],
      "metadata": {
        "id": "HvvVm7uvH4gB"
      }
    },
    {
      "cell_type": "markdown",
      "source": [
        "# Deep Learning - Stock Market Prediction And Forecasting Using Stacked LSTM"
      ],
      "metadata": {
        "id": "B3DfEa3XIHnz"
      }
    },
    {
      "cell_type": "markdown",
      "source": [
        "# Import modules"
      ],
      "metadata": {
        "id": "RNtWCwPbIS3U"
      }
    },
    {
      "cell_type": "code",
      "source": [
        "import numpy as np\n",
        "import pandas as pd\n",
        "import matplotlib.pyplot as plt\n",
        "%matplotlib inline"
      ],
      "metadata": {
        "id": "SHNR0ROWGCZP"
      },
      "execution_count": null,
      "outputs": []
    },
    {
      "cell_type": "markdown",
      "source": [
        "# Loading the dataset"
      ],
      "metadata": {
        "id": "I46wlzHsIwS3"
      }
    },
    {
      "cell_type": "code",
      "source": [
        "url= 'https://raw.githubusercontent.com/mwitiderrick/stockprice/master/NSE-TATAGLOBAL.csv'\n",
        "data = pd.read_csv(url)"
      ],
      "metadata": {
        "id": "C8XOrK4XIaxt"
      },
      "execution_count": null,
      "outputs": []
    },
    {
      "cell_type": "markdown",
      "source": [
        "# Analysis"
      ],
      "metadata": {
        "id": "I4oIUPIgI5Id"
      }
    },
    {
      "cell_type": "code",
      "source": [
        "data.head()"
      ],
      "metadata": {
        "colab": {
          "base_uri": "https://localhost:8080/",
          "height": 206
        },
        "id": "ce_7TdroI20p",
        "outputId": "3bb8b9c3-fe15-4a55-8269-624111ea430d"
      },
      "execution_count": null,
      "outputs": [
        {
          "output_type": "execute_result",
          "data": {
            "text/plain": [
              "         Date    Open    High     Low    Last   Close  Total Trade Quantity  \\\n",
              "0  2018-09-28  234.05  235.95  230.20  233.50  233.75               3069914   \n",
              "1  2018-09-27  234.55  236.80  231.10  233.80  233.25               5082859   \n",
              "2  2018-09-26  240.00  240.00  232.50  235.00  234.25               2240909   \n",
              "3  2018-09-25  233.30  236.75  232.00  236.25  236.10               2349368   \n",
              "4  2018-09-24  233.55  239.20  230.75  234.00  233.30               3423509   \n",
              "\n",
              "   Turnover (Lacs)  \n",
              "0          7162.35  \n",
              "1         11859.95  \n",
              "2          5248.60  \n",
              "3          5503.90  \n",
              "4          7999.55  "
            ],
            "text/html": [
              "\n",
              "  <div id=\"df-b2beb9ae-8178-4790-b2ec-d44a0621640b\">\n",
              "    <div class=\"colab-df-container\">\n",
              "      <div>\n",
              "<style scoped>\n",
              "    .dataframe tbody tr th:only-of-type {\n",
              "        vertical-align: middle;\n",
              "    }\n",
              "\n",
              "    .dataframe tbody tr th {\n",
              "        vertical-align: top;\n",
              "    }\n",
              "\n",
              "    .dataframe thead th {\n",
              "        text-align: right;\n",
              "    }\n",
              "</style>\n",
              "<table border=\"1\" class=\"dataframe\">\n",
              "  <thead>\n",
              "    <tr style=\"text-align: right;\">\n",
              "      <th></th>\n",
              "      <th>Date</th>\n",
              "      <th>Open</th>\n",
              "      <th>High</th>\n",
              "      <th>Low</th>\n",
              "      <th>Last</th>\n",
              "      <th>Close</th>\n",
              "      <th>Total Trade Quantity</th>\n",
              "      <th>Turnover (Lacs)</th>\n",
              "    </tr>\n",
              "  </thead>\n",
              "  <tbody>\n",
              "    <tr>\n",
              "      <th>0</th>\n",
              "      <td>2018-09-28</td>\n",
              "      <td>234.05</td>\n",
              "      <td>235.95</td>\n",
              "      <td>230.20</td>\n",
              "      <td>233.50</td>\n",
              "      <td>233.75</td>\n",
              "      <td>3069914</td>\n",
              "      <td>7162.35</td>\n",
              "    </tr>\n",
              "    <tr>\n",
              "      <th>1</th>\n",
              "      <td>2018-09-27</td>\n",
              "      <td>234.55</td>\n",
              "      <td>236.80</td>\n",
              "      <td>231.10</td>\n",
              "      <td>233.80</td>\n",
              "      <td>233.25</td>\n",
              "      <td>5082859</td>\n",
              "      <td>11859.95</td>\n",
              "    </tr>\n",
              "    <tr>\n",
              "      <th>2</th>\n",
              "      <td>2018-09-26</td>\n",
              "      <td>240.00</td>\n",
              "      <td>240.00</td>\n",
              "      <td>232.50</td>\n",
              "      <td>235.00</td>\n",
              "      <td>234.25</td>\n",
              "      <td>2240909</td>\n",
              "      <td>5248.60</td>\n",
              "    </tr>\n",
              "    <tr>\n",
              "      <th>3</th>\n",
              "      <td>2018-09-25</td>\n",
              "      <td>233.30</td>\n",
              "      <td>236.75</td>\n",
              "      <td>232.00</td>\n",
              "      <td>236.25</td>\n",
              "      <td>236.10</td>\n",
              "      <td>2349368</td>\n",
              "      <td>5503.90</td>\n",
              "    </tr>\n",
              "    <tr>\n",
              "      <th>4</th>\n",
              "      <td>2018-09-24</td>\n",
              "      <td>233.55</td>\n",
              "      <td>239.20</td>\n",
              "      <td>230.75</td>\n",
              "      <td>234.00</td>\n",
              "      <td>233.30</td>\n",
              "      <td>3423509</td>\n",
              "      <td>7999.55</td>\n",
              "    </tr>\n",
              "  </tbody>\n",
              "</table>\n",
              "</div>\n",
              "      <button class=\"colab-df-convert\" onclick=\"convertToInteractive('df-b2beb9ae-8178-4790-b2ec-d44a0621640b')\"\n",
              "              title=\"Convert this dataframe to an interactive table.\"\n",
              "              style=\"display:none;\">\n",
              "        \n",
              "  <svg xmlns=\"http://www.w3.org/2000/svg\" height=\"24px\"viewBox=\"0 0 24 24\"\n",
              "       width=\"24px\">\n",
              "    <path d=\"M0 0h24v24H0V0z\" fill=\"none\"/>\n",
              "    <path d=\"M18.56 5.44l.94 2.06.94-2.06 2.06-.94-2.06-.94-.94-2.06-.94 2.06-2.06.94zm-11 1L8.5 8.5l.94-2.06 2.06-.94-2.06-.94L8.5 2.5l-.94 2.06-2.06.94zm10 10l.94 2.06.94-2.06 2.06-.94-2.06-.94-.94-2.06-.94 2.06-2.06.94z\"/><path d=\"M17.41 7.96l-1.37-1.37c-.4-.4-.92-.59-1.43-.59-.52 0-1.04.2-1.43.59L10.3 9.45l-7.72 7.72c-.78.78-.78 2.05 0 2.83L4 21.41c.39.39.9.59 1.41.59.51 0 1.02-.2 1.41-.59l7.78-7.78 2.81-2.81c.8-.78.8-2.07 0-2.86zM5.41 20L4 18.59l7.72-7.72 1.47 1.35L5.41 20z\"/>\n",
              "  </svg>\n",
              "      </button>\n",
              "      \n",
              "  <style>\n",
              "    .colab-df-container {\n",
              "      display:flex;\n",
              "      flex-wrap:wrap;\n",
              "      gap: 12px;\n",
              "    }\n",
              "\n",
              "    .colab-df-convert {\n",
              "      background-color: #E8F0FE;\n",
              "      border: none;\n",
              "      border-radius: 50%;\n",
              "      cursor: pointer;\n",
              "      display: none;\n",
              "      fill: #1967D2;\n",
              "      height: 32px;\n",
              "      padding: 0 0 0 0;\n",
              "      width: 32px;\n",
              "    }\n",
              "\n",
              "    .colab-df-convert:hover {\n",
              "      background-color: #E2EBFA;\n",
              "      box-shadow: 0px 1px 2px rgba(60, 64, 67, 0.3), 0px 1px 3px 1px rgba(60, 64, 67, 0.15);\n",
              "      fill: #174EA6;\n",
              "    }\n",
              "\n",
              "    [theme=dark] .colab-df-convert {\n",
              "      background-color: #3B4455;\n",
              "      fill: #D2E3FC;\n",
              "    }\n",
              "\n",
              "    [theme=dark] .colab-df-convert:hover {\n",
              "      background-color: #434B5C;\n",
              "      box-shadow: 0px 1px 3px 1px rgba(0, 0, 0, 0.15);\n",
              "      filter: drop-shadow(0px 1px 2px rgba(0, 0, 0, 0.3));\n",
              "      fill: #FFFFFF;\n",
              "    }\n",
              "  </style>\n",
              "\n",
              "      <script>\n",
              "        const buttonEl =\n",
              "          document.querySelector('#df-b2beb9ae-8178-4790-b2ec-d44a0621640b button.colab-df-convert');\n",
              "        buttonEl.style.display =\n",
              "          google.colab.kernel.accessAllowed ? 'block' : 'none';\n",
              "\n",
              "        async function convertToInteractive(key) {\n",
              "          const element = document.querySelector('#df-b2beb9ae-8178-4790-b2ec-d44a0621640b');\n",
              "          const dataTable =\n",
              "            await google.colab.kernel.invokeFunction('convertToInteractive',\n",
              "                                                     [key], {});\n",
              "          if (!dataTable) return;\n",
              "\n",
              "          const docLinkHtml = 'Like what you see? Visit the ' +\n",
              "            '<a target=\"_blank\" href=https://colab.research.google.com/notebooks/data_table.ipynb>data table notebook</a>'\n",
              "            + ' to learn more about interactive tables.';\n",
              "          element.innerHTML = '';\n",
              "          dataTable['output_type'] = 'display_data';\n",
              "          await google.colab.output.renderOutput(dataTable, element);\n",
              "          const docLink = document.createElement('div');\n",
              "          docLink.innerHTML = docLinkHtml;\n",
              "          element.appendChild(docLink);\n",
              "        }\n",
              "      </script>\n",
              "    </div>\n",
              "  </div>\n",
              "  "
            ]
          },
          "metadata": {},
          "execution_count": 3
        }
      ]
    },
    {
      "cell_type": "code",
      "source": [
        "data.tail()"
      ],
      "metadata": {
        "colab": {
          "base_uri": "https://localhost:8080/",
          "height": 206
        },
        "id": "ji5gFx8gJCja",
        "outputId": "19231164-3fe5-4297-c68a-130c40c8e61e"
      },
      "execution_count": null,
      "outputs": [
        {
          "output_type": "execute_result",
          "data": {
            "text/plain": [
              "            Date   Open    High     Low    Last   Close  Total Trade Quantity  \\\n",
              "2030  2010-07-27  117.6  119.50  112.00  118.80  118.65                586100   \n",
              "2031  2010-07-26  120.1  121.00  117.10  117.10  117.60                658440   \n",
              "2032  2010-07-23  121.8  121.95  120.25  120.35  120.65                281312   \n",
              "2033  2010-07-22  120.3  122.00  120.25  120.75  120.90                293312   \n",
              "2034  2010-07-21  122.1  123.00  121.05  121.10  121.55                658666   \n",
              "\n",
              "      Turnover (Lacs)  \n",
              "2030           694.98  \n",
              "2031           780.01  \n",
              "2032           340.31  \n",
              "2033           355.17  \n",
              "2034           803.56  "
            ],
            "text/html": [
              "\n",
              "  <div id=\"df-07311585-c252-470a-adcf-fdbba831e27a\">\n",
              "    <div class=\"colab-df-container\">\n",
              "      <div>\n",
              "<style scoped>\n",
              "    .dataframe tbody tr th:only-of-type {\n",
              "        vertical-align: middle;\n",
              "    }\n",
              "\n",
              "    .dataframe tbody tr th {\n",
              "        vertical-align: top;\n",
              "    }\n",
              "\n",
              "    .dataframe thead th {\n",
              "        text-align: right;\n",
              "    }\n",
              "</style>\n",
              "<table border=\"1\" class=\"dataframe\">\n",
              "  <thead>\n",
              "    <tr style=\"text-align: right;\">\n",
              "      <th></th>\n",
              "      <th>Date</th>\n",
              "      <th>Open</th>\n",
              "      <th>High</th>\n",
              "      <th>Low</th>\n",
              "      <th>Last</th>\n",
              "      <th>Close</th>\n",
              "      <th>Total Trade Quantity</th>\n",
              "      <th>Turnover (Lacs)</th>\n",
              "    </tr>\n",
              "  </thead>\n",
              "  <tbody>\n",
              "    <tr>\n",
              "      <th>2030</th>\n",
              "      <td>2010-07-27</td>\n",
              "      <td>117.6</td>\n",
              "      <td>119.50</td>\n",
              "      <td>112.00</td>\n",
              "      <td>118.80</td>\n",
              "      <td>118.65</td>\n",
              "      <td>586100</td>\n",
              "      <td>694.98</td>\n",
              "    </tr>\n",
              "    <tr>\n",
              "      <th>2031</th>\n",
              "      <td>2010-07-26</td>\n",
              "      <td>120.1</td>\n",
              "      <td>121.00</td>\n",
              "      <td>117.10</td>\n",
              "      <td>117.10</td>\n",
              "      <td>117.60</td>\n",
              "      <td>658440</td>\n",
              "      <td>780.01</td>\n",
              "    </tr>\n",
              "    <tr>\n",
              "      <th>2032</th>\n",
              "      <td>2010-07-23</td>\n",
              "      <td>121.8</td>\n",
              "      <td>121.95</td>\n",
              "      <td>120.25</td>\n",
              "      <td>120.35</td>\n",
              "      <td>120.65</td>\n",
              "      <td>281312</td>\n",
              "      <td>340.31</td>\n",
              "    </tr>\n",
              "    <tr>\n",
              "      <th>2033</th>\n",
              "      <td>2010-07-22</td>\n",
              "      <td>120.3</td>\n",
              "      <td>122.00</td>\n",
              "      <td>120.25</td>\n",
              "      <td>120.75</td>\n",
              "      <td>120.90</td>\n",
              "      <td>293312</td>\n",
              "      <td>355.17</td>\n",
              "    </tr>\n",
              "    <tr>\n",
              "      <th>2034</th>\n",
              "      <td>2010-07-21</td>\n",
              "      <td>122.1</td>\n",
              "      <td>123.00</td>\n",
              "      <td>121.05</td>\n",
              "      <td>121.10</td>\n",
              "      <td>121.55</td>\n",
              "      <td>658666</td>\n",
              "      <td>803.56</td>\n",
              "    </tr>\n",
              "  </tbody>\n",
              "</table>\n",
              "</div>\n",
              "      <button class=\"colab-df-convert\" onclick=\"convertToInteractive('df-07311585-c252-470a-adcf-fdbba831e27a')\"\n",
              "              title=\"Convert this dataframe to an interactive table.\"\n",
              "              style=\"display:none;\">\n",
              "        \n",
              "  <svg xmlns=\"http://www.w3.org/2000/svg\" height=\"24px\"viewBox=\"0 0 24 24\"\n",
              "       width=\"24px\">\n",
              "    <path d=\"M0 0h24v24H0V0z\" fill=\"none\"/>\n",
              "    <path d=\"M18.56 5.44l.94 2.06.94-2.06 2.06-.94-2.06-.94-.94-2.06-.94 2.06-2.06.94zm-11 1L8.5 8.5l.94-2.06 2.06-.94-2.06-.94L8.5 2.5l-.94 2.06-2.06.94zm10 10l.94 2.06.94-2.06 2.06-.94-2.06-.94-.94-2.06-.94 2.06-2.06.94z\"/><path d=\"M17.41 7.96l-1.37-1.37c-.4-.4-.92-.59-1.43-.59-.52 0-1.04.2-1.43.59L10.3 9.45l-7.72 7.72c-.78.78-.78 2.05 0 2.83L4 21.41c.39.39.9.59 1.41.59.51 0 1.02-.2 1.41-.59l7.78-7.78 2.81-2.81c.8-.78.8-2.07 0-2.86zM5.41 20L4 18.59l7.72-7.72 1.47 1.35L5.41 20z\"/>\n",
              "  </svg>\n",
              "      </button>\n",
              "      \n",
              "  <style>\n",
              "    .colab-df-container {\n",
              "      display:flex;\n",
              "      flex-wrap:wrap;\n",
              "      gap: 12px;\n",
              "    }\n",
              "\n",
              "    .colab-df-convert {\n",
              "      background-color: #E8F0FE;\n",
              "      border: none;\n",
              "      border-radius: 50%;\n",
              "      cursor: pointer;\n",
              "      display: none;\n",
              "      fill: #1967D2;\n",
              "      height: 32px;\n",
              "      padding: 0 0 0 0;\n",
              "      width: 32px;\n",
              "    }\n",
              "\n",
              "    .colab-df-convert:hover {\n",
              "      background-color: #E2EBFA;\n",
              "      box-shadow: 0px 1px 2px rgba(60, 64, 67, 0.3), 0px 1px 3px 1px rgba(60, 64, 67, 0.15);\n",
              "      fill: #174EA6;\n",
              "    }\n",
              "\n",
              "    [theme=dark] .colab-df-convert {\n",
              "      background-color: #3B4455;\n",
              "      fill: #D2E3FC;\n",
              "    }\n",
              "\n",
              "    [theme=dark] .colab-df-convert:hover {\n",
              "      background-color: #434B5C;\n",
              "      box-shadow: 0px 1px 3px 1px rgba(0, 0, 0, 0.15);\n",
              "      filter: drop-shadow(0px 1px 2px rgba(0, 0, 0, 0.3));\n",
              "      fill: #FFFFFF;\n",
              "    }\n",
              "  </style>\n",
              "\n",
              "      <script>\n",
              "        const buttonEl =\n",
              "          document.querySelector('#df-07311585-c252-470a-adcf-fdbba831e27a button.colab-df-convert');\n",
              "        buttonEl.style.display =\n",
              "          google.colab.kernel.accessAllowed ? 'block' : 'none';\n",
              "\n",
              "        async function convertToInteractive(key) {\n",
              "          const element = document.querySelector('#df-07311585-c252-470a-adcf-fdbba831e27a');\n",
              "          const dataTable =\n",
              "            await google.colab.kernel.invokeFunction('convertToInteractive',\n",
              "                                                     [key], {});\n",
              "          if (!dataTable) return;\n",
              "\n",
              "          const docLinkHtml = 'Like what you see? Visit the ' +\n",
              "            '<a target=\"_blank\" href=https://colab.research.google.com/notebooks/data_table.ipynb>data table notebook</a>'\n",
              "            + ' to learn more about interactive tables.';\n",
              "          element.innerHTML = '';\n",
              "          dataTable['output_type'] = 'display_data';\n",
              "          await google.colab.output.renderOutput(dataTable, element);\n",
              "          const docLink = document.createElement('div');\n",
              "          docLink.innerHTML = docLinkHtml;\n",
              "          element.appendChild(docLink);\n",
              "        }\n",
              "      </script>\n",
              "    </div>\n",
              "  </div>\n",
              "  "
            ]
          },
          "metadata": {},
          "execution_count": 4
        }
      ]
    },
    {
      "cell_type": "code",
      "source": [
        "data.describe()"
      ],
      "metadata": {
        "colab": {
          "base_uri": "https://localhost:8080/",
          "height": 300
        },
        "id": "S5mmXU9-JEHd",
        "outputId": "79b804a7-75f0-45a3-9fc5-3424bdfb222d"
      },
      "execution_count": null,
      "outputs": [
        {
          "output_type": "execute_result",
          "data": {
            "text/plain": [
              "              Open         High          Low         Last       Close  \\\n",
              "count  2035.000000  2035.000000  2035.000000  2035.000000  2035.00000   \n",
              "mean    149.713735   151.992826   147.293931   149.474251   149.45027   \n",
              "std      48.664509    49.413109    47.931958    48.732570    48.71204   \n",
              "min      81.100000    82.800000    80.000000    81.000000    80.95000   \n",
              "25%     120.025000   122.100000   118.300000   120.075000   120.05000   \n",
              "50%     141.500000   143.400000   139.600000   141.100000   141.25000   \n",
              "75%     157.175000   159.400000   155.150000   156.925000   156.90000   \n",
              "max     327.700000   328.750000   321.650000   325.950000   325.75000   \n",
              "\n",
              "       Total Trade Quantity  Turnover (Lacs)  \n",
              "count          2.035000e+03      2035.000000  \n",
              "mean           2.335681e+06      3899.980565  \n",
              "std            2.091778e+06      4570.767877  \n",
              "min            3.961000e+04        37.040000  \n",
              "25%            1.146444e+06      1427.460000  \n",
              "50%            1.783456e+06      2512.030000  \n",
              "75%            2.813594e+06      4539.015000  \n",
              "max            2.919102e+07     55755.080000  "
            ],
            "text/html": [
              "\n",
              "  <div id=\"df-87f282f5-afe0-4b93-bbf6-2cdea5100804\">\n",
              "    <div class=\"colab-df-container\">\n",
              "      <div>\n",
              "<style scoped>\n",
              "    .dataframe tbody tr th:only-of-type {\n",
              "        vertical-align: middle;\n",
              "    }\n",
              "\n",
              "    .dataframe tbody tr th {\n",
              "        vertical-align: top;\n",
              "    }\n",
              "\n",
              "    .dataframe thead th {\n",
              "        text-align: right;\n",
              "    }\n",
              "</style>\n",
              "<table border=\"1\" class=\"dataframe\">\n",
              "  <thead>\n",
              "    <tr style=\"text-align: right;\">\n",
              "      <th></th>\n",
              "      <th>Open</th>\n",
              "      <th>High</th>\n",
              "      <th>Low</th>\n",
              "      <th>Last</th>\n",
              "      <th>Close</th>\n",
              "      <th>Total Trade Quantity</th>\n",
              "      <th>Turnover (Lacs)</th>\n",
              "    </tr>\n",
              "  </thead>\n",
              "  <tbody>\n",
              "    <tr>\n",
              "      <th>count</th>\n",
              "      <td>2035.000000</td>\n",
              "      <td>2035.000000</td>\n",
              "      <td>2035.000000</td>\n",
              "      <td>2035.000000</td>\n",
              "      <td>2035.00000</td>\n",
              "      <td>2.035000e+03</td>\n",
              "      <td>2035.000000</td>\n",
              "    </tr>\n",
              "    <tr>\n",
              "      <th>mean</th>\n",
              "      <td>149.713735</td>\n",
              "      <td>151.992826</td>\n",
              "      <td>147.293931</td>\n",
              "      <td>149.474251</td>\n",
              "      <td>149.45027</td>\n",
              "      <td>2.335681e+06</td>\n",
              "      <td>3899.980565</td>\n",
              "    </tr>\n",
              "    <tr>\n",
              "      <th>std</th>\n",
              "      <td>48.664509</td>\n",
              "      <td>49.413109</td>\n",
              "      <td>47.931958</td>\n",
              "      <td>48.732570</td>\n",
              "      <td>48.71204</td>\n",
              "      <td>2.091778e+06</td>\n",
              "      <td>4570.767877</td>\n",
              "    </tr>\n",
              "    <tr>\n",
              "      <th>min</th>\n",
              "      <td>81.100000</td>\n",
              "      <td>82.800000</td>\n",
              "      <td>80.000000</td>\n",
              "      <td>81.000000</td>\n",
              "      <td>80.95000</td>\n",
              "      <td>3.961000e+04</td>\n",
              "      <td>37.040000</td>\n",
              "    </tr>\n",
              "    <tr>\n",
              "      <th>25%</th>\n",
              "      <td>120.025000</td>\n",
              "      <td>122.100000</td>\n",
              "      <td>118.300000</td>\n",
              "      <td>120.075000</td>\n",
              "      <td>120.05000</td>\n",
              "      <td>1.146444e+06</td>\n",
              "      <td>1427.460000</td>\n",
              "    </tr>\n",
              "    <tr>\n",
              "      <th>50%</th>\n",
              "      <td>141.500000</td>\n",
              "      <td>143.400000</td>\n",
              "      <td>139.600000</td>\n",
              "      <td>141.100000</td>\n",
              "      <td>141.25000</td>\n",
              "      <td>1.783456e+06</td>\n",
              "      <td>2512.030000</td>\n",
              "    </tr>\n",
              "    <tr>\n",
              "      <th>75%</th>\n",
              "      <td>157.175000</td>\n",
              "      <td>159.400000</td>\n",
              "      <td>155.150000</td>\n",
              "      <td>156.925000</td>\n",
              "      <td>156.90000</td>\n",
              "      <td>2.813594e+06</td>\n",
              "      <td>4539.015000</td>\n",
              "    </tr>\n",
              "    <tr>\n",
              "      <th>max</th>\n",
              "      <td>327.700000</td>\n",
              "      <td>328.750000</td>\n",
              "      <td>321.650000</td>\n",
              "      <td>325.950000</td>\n",
              "      <td>325.75000</td>\n",
              "      <td>2.919102e+07</td>\n",
              "      <td>55755.080000</td>\n",
              "    </tr>\n",
              "  </tbody>\n",
              "</table>\n",
              "</div>\n",
              "      <button class=\"colab-df-convert\" onclick=\"convertToInteractive('df-87f282f5-afe0-4b93-bbf6-2cdea5100804')\"\n",
              "              title=\"Convert this dataframe to an interactive table.\"\n",
              "              style=\"display:none;\">\n",
              "        \n",
              "  <svg xmlns=\"http://www.w3.org/2000/svg\" height=\"24px\"viewBox=\"0 0 24 24\"\n",
              "       width=\"24px\">\n",
              "    <path d=\"M0 0h24v24H0V0z\" fill=\"none\"/>\n",
              "    <path d=\"M18.56 5.44l.94 2.06.94-2.06 2.06-.94-2.06-.94-.94-2.06-.94 2.06-2.06.94zm-11 1L8.5 8.5l.94-2.06 2.06-.94-2.06-.94L8.5 2.5l-.94 2.06-2.06.94zm10 10l.94 2.06.94-2.06 2.06-.94-2.06-.94-.94-2.06-.94 2.06-2.06.94z\"/><path d=\"M17.41 7.96l-1.37-1.37c-.4-.4-.92-.59-1.43-.59-.52 0-1.04.2-1.43.59L10.3 9.45l-7.72 7.72c-.78.78-.78 2.05 0 2.83L4 21.41c.39.39.9.59 1.41.59.51 0 1.02-.2 1.41-.59l7.78-7.78 2.81-2.81c.8-.78.8-2.07 0-2.86zM5.41 20L4 18.59l7.72-7.72 1.47 1.35L5.41 20z\"/>\n",
              "  </svg>\n",
              "      </button>\n",
              "      \n",
              "  <style>\n",
              "    .colab-df-container {\n",
              "      display:flex;\n",
              "      flex-wrap:wrap;\n",
              "      gap: 12px;\n",
              "    }\n",
              "\n",
              "    .colab-df-convert {\n",
              "      background-color: #E8F0FE;\n",
              "      border: none;\n",
              "      border-radius: 50%;\n",
              "      cursor: pointer;\n",
              "      display: none;\n",
              "      fill: #1967D2;\n",
              "      height: 32px;\n",
              "      padding: 0 0 0 0;\n",
              "      width: 32px;\n",
              "    }\n",
              "\n",
              "    .colab-df-convert:hover {\n",
              "      background-color: #E2EBFA;\n",
              "      box-shadow: 0px 1px 2px rgba(60, 64, 67, 0.3), 0px 1px 3px 1px rgba(60, 64, 67, 0.15);\n",
              "      fill: #174EA6;\n",
              "    }\n",
              "\n",
              "    [theme=dark] .colab-df-convert {\n",
              "      background-color: #3B4455;\n",
              "      fill: #D2E3FC;\n",
              "    }\n",
              "\n",
              "    [theme=dark] .colab-df-convert:hover {\n",
              "      background-color: #434B5C;\n",
              "      box-shadow: 0px 1px 3px 1px rgba(0, 0, 0, 0.15);\n",
              "      filter: drop-shadow(0px 1px 2px rgba(0, 0, 0, 0.3));\n",
              "      fill: #FFFFFF;\n",
              "    }\n",
              "  </style>\n",
              "\n",
              "      <script>\n",
              "        const buttonEl =\n",
              "          document.querySelector('#df-87f282f5-afe0-4b93-bbf6-2cdea5100804 button.colab-df-convert');\n",
              "        buttonEl.style.display =\n",
              "          google.colab.kernel.accessAllowed ? 'block' : 'none';\n",
              "\n",
              "        async function convertToInteractive(key) {\n",
              "          const element = document.querySelector('#df-87f282f5-afe0-4b93-bbf6-2cdea5100804');\n",
              "          const dataTable =\n",
              "            await google.colab.kernel.invokeFunction('convertToInteractive',\n",
              "                                                     [key], {});\n",
              "          if (!dataTable) return;\n",
              "\n",
              "          const docLinkHtml = 'Like what you see? Visit the ' +\n",
              "            '<a target=\"_blank\" href=https://colab.research.google.com/notebooks/data_table.ipynb>data table notebook</a>'\n",
              "            + ' to learn more about interactive tables.';\n",
              "          element.innerHTML = '';\n",
              "          dataTable['output_type'] = 'display_data';\n",
              "          await google.colab.output.renderOutput(dataTable, element);\n",
              "          const docLink = document.createElement('div');\n",
              "          docLink.innerHTML = docLinkHtml;\n",
              "          element.appendChild(docLink);\n",
              "        }\n",
              "      </script>\n",
              "    </div>\n",
              "  </div>\n",
              "  "
            ]
          },
          "metadata": {},
          "execution_count": 5
        }
      ]
    },
    {
      "cell_type": "code",
      "source": [
        "data.info()"
      ],
      "metadata": {
        "colab": {
          "base_uri": "https://localhost:8080/"
        },
        "id": "JvaD315JJHuH",
        "outputId": "5cca6161-fca8-45f4-ac51-360c523721f6"
      },
      "execution_count": null,
      "outputs": [
        {
          "output_type": "stream",
          "name": "stdout",
          "text": [
            "<class 'pandas.core.frame.DataFrame'>\n",
            "RangeIndex: 2035 entries, 0 to 2034\n",
            "Data columns (total 8 columns):\n",
            " #   Column                Non-Null Count  Dtype  \n",
            "---  ------                --------------  -----  \n",
            " 0   Date                  2035 non-null   object \n",
            " 1   Open                  2035 non-null   float64\n",
            " 2   High                  2035 non-null   float64\n",
            " 3   Low                   2035 non-null   float64\n",
            " 4   Last                  2035 non-null   float64\n",
            " 5   Close                 2035 non-null   float64\n",
            " 6   Total Trade Quantity  2035 non-null   int64  \n",
            " 7   Turnover (Lacs)       2035 non-null   float64\n",
            "dtypes: float64(6), int64(1), object(1)\n",
            "memory usage: 127.3+ KB\n"
          ]
        }
      ]
    },
    {
      "cell_type": "code",
      "source": [
        "data.shape"
      ],
      "metadata": {
        "colab": {
          "base_uri": "https://localhost:8080/"
        },
        "id": "Xmyk9g0lJLVf",
        "outputId": "da64ba81-5fdf-4d57-9d13-fc543a22aa88"
      },
      "execution_count": null,
      "outputs": [
        {
          "output_type": "execute_result",
          "data": {
            "text/plain": [
              "(2035, 8)"
            ]
          },
          "metadata": {},
          "execution_count": 7
        }
      ]
    },
    {
      "cell_type": "code",
      "source": [
        "data.columns"
      ],
      "metadata": {
        "colab": {
          "base_uri": "https://localhost:8080/"
        },
        "id": "RVYGaH_cJNOT",
        "outputId": "62618ef0-8027-476f-b7f4-0ae0f8c1d880"
      },
      "execution_count": null,
      "outputs": [
        {
          "output_type": "execute_result",
          "data": {
            "text/plain": [
              "Index(['Date', 'Open', 'High', 'Low', 'Last', 'Close', 'Total Trade Quantity',\n",
              "       'Turnover (Lacs)'],\n",
              "      dtype='object')"
            ]
          },
          "metadata": {},
          "execution_count": 8
        }
      ]
    },
    {
      "cell_type": "code",
      "source": [
        "data.isnull().sum()"
      ],
      "metadata": {
        "colab": {
          "base_uri": "https://localhost:8080/"
        },
        "id": "_sBqM7pqJSmj",
        "outputId": "151503f6-84a0-4de8-ef3a-464f9ddb99be"
      },
      "execution_count": null,
      "outputs": [
        {
          "output_type": "execute_result",
          "data": {
            "text/plain": [
              "Date                    0\n",
              "Open                    0\n",
              "High                    0\n",
              "Low                     0\n",
              "Last                    0\n",
              "Close                   0\n",
              "Total Trade Quantity    0\n",
              "Turnover (Lacs)         0\n",
              "dtype: int64"
            ]
          },
          "metadata": {},
          "execution_count": 9
        }
      ]
    },
    {
      "cell_type": "markdown",
      "source": [
        "# Picking Up Close Column"
      ],
      "metadata": {
        "id": "OD8HIgi8JWiw"
      }
    },
    {
      "cell_type": "code",
      "source": [
        "df = data.reset_index()['Close']"
      ],
      "metadata": {
        "id": "CWGkP-TYJYFX"
      },
      "execution_count": null,
      "outputs": []
    },
    {
      "cell_type": "code",
      "source": [
        "df"
      ],
      "metadata": {
        "colab": {
          "base_uri": "https://localhost:8080/"
        },
        "id": "kjVwRd90Jcg6",
        "outputId": "ea89bec7-037d-438c-81e6-1d3d206fa62b"
      },
      "execution_count": null,
      "outputs": [
        {
          "output_type": "execute_result",
          "data": {
            "text/plain": [
              "0       233.75\n",
              "1       233.25\n",
              "2       234.25\n",
              "3       236.10\n",
              "4       233.30\n",
              "         ...  \n",
              "2030    118.65\n",
              "2031    117.60\n",
              "2032    120.65\n",
              "2033    120.90\n",
              "2034    121.55\n",
              "Name: Close, Length: 2035, dtype: float64"
            ]
          },
          "metadata": {},
          "execution_count": 11
        }
      ]
    },
    {
      "cell_type": "code",
      "source": [
        "df.shape"
      ],
      "metadata": {
        "colab": {
          "base_uri": "https://localhost:8080/"
        },
        "id": "DjcixWpMJfJX",
        "outputId": "845967c4-4055-42be-9b2f-6448e491a924"
      },
      "execution_count": null,
      "outputs": [
        {
          "output_type": "execute_result",
          "data": {
            "text/plain": [
              "(2035,)"
            ]
          },
          "metadata": {},
          "execution_count": 12
        }
      ]
    },
    {
      "cell_type": "markdown",
      "source": [
        "# Visualizing"
      ],
      "metadata": {
        "id": "ieQDx5AOJlHF"
      }
    },
    {
      "cell_type": "code",
      "source": [
        "plt.plot(df, color = 'blue')\n",
        "plt.title(\"Stacked Index View\")\n",
        "plt.xlabel(\"X-axis\")\n",
        "plt.ylabel(\"Y-axis\")"
      ],
      "metadata": {
        "colab": {
          "base_uri": "https://localhost:8080/",
          "height": 312
        },
        "id": "5U3YYjCAJmiT",
        "outputId": "9fe83538-6b45-4ed8-9f81-ec38881e3d30"
      },
      "execution_count": null,
      "outputs": [
        {
          "output_type": "execute_result",
          "data": {
            "text/plain": [
              "Text(0, 0.5, 'Y-axis')"
            ]
          },
          "metadata": {},
          "execution_count": 13
        },
        {
          "output_type": "display_data",
          "data": {
            "text/plain": [
              "<Figure size 432x288 with 1 Axes>"
            ],
            "image/png": "[encoded data removed]"
          },
          "metadata": {
            "needs_background": "light"
          }
        }
      ]
    },
    {
      "cell_type": "markdown",
      "source": [
        "# Min-Max Scaler\n"
      ],
      "metadata": {
        "id": "xpMbAtTdJvUe"
      }
    },
    {
      "cell_type": "code",
      "source": [
        "from sklearn.preprocessing import MinMaxScaler"
      ],
      "metadata": {
        "id": "ZfLa11KiJsec"
      },
      "execution_count": null,
      "outputs": []
    },
    {
      "cell_type": "code",
      "source": [
        "scaler = MinMaxScaler(feature_range = (0,1))\n",
        "df = scaler.fit_transform(np.array(df).reshape(-1,1))"
      ],
      "metadata": {
        "id": "io-TNjLkJ1gj"
      },
      "execution_count": null,
      "outputs": []
    },
    {
      "cell_type": "markdown",
      "source": [
        "Now the data1 is transformed into an array and it now having the values between zero to one"
      ],
      "metadata": {
        "id": "U4dGobG_J8g5"
      }
    },
    {
      "cell_type": "code",
      "source": [
        "df"
      ],
      "metadata": {
        "colab": {
          "base_uri": "https://localhost:8080/"
        },
        "id": "vlPSQG4lJ78J",
        "outputId": "067d7f41-08da-4325-f576-fa16705c5cd2"
      },
      "execution_count": null,
      "outputs": [
        {
          "output_type": "execute_result",
          "data": {
            "text/plain": [
              "array([[0.62418301],\n",
              "       [0.62214052],\n",
              "       [0.62622549],\n",
              "       ...,\n",
              "       [0.1621732 ],\n",
              "       [0.16319444],\n",
              "       [0.16584967]])"
            ]
          },
          "metadata": {},
          "execution_count": 16
        }
      ]
    },
    {
      "cell_type": "code",
      "source": [
        "df.shape"
      ],
      "metadata": {
        "colab": {
          "base_uri": "https://localhost:8080/"
        },
        "id": "_6LJw7rgKCX6",
        "outputId": "cbd96717-d015-4eec-8459-8379cbb83307"
      },
      "execution_count": null,
      "outputs": [
        {
          "output_type": "execute_result",
          "data": {
            "text/plain": [
              "(2035, 1)"
            ]
          },
          "metadata": {},
          "execution_count": 17
        }
      ]
    },
    {
      "cell_type": "markdown",
      "source": [
        "# Train Test Split"
      ],
      "metadata": {
        "id": "kFmuFjaNKFOV"
      }
    },
    {
      "cell_type": "code",
      "source": [
        "train_size = int(len(data)*0.65)\n",
        "test_size = len(df) - train_size\n",
        "train_data, test_data = df[0:train_size,:],df[train_size:len(df),:1]"
      ],
      "metadata": {
        "id": "4wK-hHM1KGNV"
      },
      "execution_count": null,
      "outputs": []
    },
    {
      "cell_type": "code",
      "source": [
        "train_size,test_size"
      ],
      "metadata": {
        "colab": {
          "base_uri": "https://localhost:8080/"
        },
        "id": "Zk9Fm7rkKP_t",
        "outputId": "770dd18d-629e-4a7a-fa14-6894c96ec280"
      },
      "execution_count": null,
      "outputs": [
        {
          "output_type": "execute_result",
          "data": {
            "text/plain": [
              "(1322, 713)"
            ]
          },
          "metadata": {},
          "execution_count": 20
        }
      ]
    },
    {
      "cell_type": "code",
      "source": [
        "train_data,test_data"
      ],
      "metadata": {
        "colab": {
          "base_uri": "https://localhost:8080/"
        },
        "id": "z1HhI7MfKR_T",
        "outputId": "0aa1f32c-d139-49de-eb5a-d4c93aa42c55"
      },
      "execution_count": null,
      "outputs": [
        {
          "output_type": "execute_result",
          "data": {
            "text/plain": [
              "(array([[0.62418301],\n",
              "        [0.62214052],\n",
              "        [0.62622549],\n",
              "        ...,\n",
              "        [0.25347222],\n",
              "        [0.26041667],\n",
              "        [0.2563317 ]]), array([[0.24652778],\n",
              "        [0.23611111],\n",
              "        [0.25204248],\n",
              "        [0.25919118],\n",
              "        [0.25776144],\n",
              "        [0.2681781 ],\n",
              "        [0.25449346],\n",
              "        [0.27103758],\n",
              "        [0.24530229],\n",
              "        [0.26756536],\n",
              "        [0.27267157],\n",
              "        [0.26633987],\n",
              "        [0.27410131],\n",
              "        [0.28615196],\n",
              "        [0.27818627],\n",
              "        [0.27205882],\n",
              "        [0.27124183],\n",
              "        [0.27798203],\n",
              "        [0.27083333],\n",
              "        [0.25857843],\n",
              "        [0.24285131],\n",
              "        [0.2250817 ],\n",
              "        [0.23447712],\n",
              "        [0.24346405],\n",
              "        [0.23611111],\n",
              "        [0.22937092],\n",
              "        [0.21527778],\n",
              "        [0.20976307],\n",
              "        [0.20751634],\n",
              "        [0.2060866 ],\n",
              "        [0.20445261],\n",
              "        [0.20098039],\n",
              "        [0.21180556],\n",
              "        [0.19301471],\n",
              "        [0.18974673],\n",
              "        [0.20302288],\n",
              "        [0.21752451],\n",
              "        [0.20629085],\n",
              "        [0.19158497],\n",
              "        [0.17381536],\n",
              "        [0.17401961],\n",
              "        [0.18361928],\n",
              "        [0.17830882],\n",
              "        [0.19362745],\n",
              "        [0.20098039],\n",
              "        [0.20486111],\n",
              "        [0.21425654],\n",
              "        [0.21813725],\n",
              "        [0.21466503],\n",
              "        [0.21343954],\n",
              "        [0.21160131],\n",
              "        [0.21711601],\n",
              "        [0.20710784],\n",
              "        [0.2005719 ],\n",
              "        [0.20874183],\n",
              "        [0.18647876],\n",
              "        [0.19199346],\n",
              "        [0.1807598 ],\n",
              "        [0.20935458],\n",
              "        [0.20792484],\n",
              "        [0.21425654],\n",
              "        [0.23366013],\n",
              "        [0.23304739],\n",
              "        [0.26184641],\n",
              "        [0.26715686],\n",
              "        [0.24897876],\n",
              "        [0.24550654],\n",
              "        [0.2373366 ],\n",
              "        [0.24754902],\n",
              "        [0.2495915 ],\n",
              "        [0.24448529],\n",
              "        [0.25142974],\n",
              "        [0.26102941],\n",
              "        [0.2504085 ],\n",
              "        [0.24734477],\n",
              "        [0.2622549 ],\n",
              "        [0.2689951 ],\n",
              "        [0.27941176],\n",
              "        [0.25714869],\n",
              "        [0.27287582],\n",
              "        [0.27246732],\n",
              "        [0.27389706],\n",
              "        [0.26368464],\n",
              "        [0.27798203],\n",
              "        [0.28962418],\n",
              "        [0.29840686],\n",
              "        [0.2943219 ],\n",
              "        [0.30228758],\n",
              "        [0.30861928],\n",
              "        [0.31699346],\n",
              "        [0.32066993],\n",
              "        [0.31740196],\n",
              "        [0.32700163],\n",
              "        [0.33292484],\n",
              "        [0.33823529],\n",
              "        [0.33415033],\n",
              "        [0.33986928],\n",
              "        [0.34681373],\n",
              "        [0.3500817 ],\n",
              "        [0.32618464],\n",
              "        [0.32271242],\n",
              "        [0.3247549 ],\n",
              "        [0.32148693],\n",
              "        [0.32352941],\n",
              "        [0.3255719 ],\n",
              "        [0.32638889],\n",
              "        [0.33496732],\n",
              "        [0.34395425],\n",
              "        [0.3441585 ],\n",
              "        [0.34599673],\n",
              "        [0.35866013],\n",
              "        [0.35580065],\n",
              "        [0.37214052],\n",
              "        [0.36294935],\n",
              "        [0.3754085 ],\n",
              "        [0.36315359],\n",
              "        [0.34640523],\n",
              "        [0.34579248],\n",
              "        [0.34844771],\n",
              "        [0.35784314],\n",
              "        [0.34722222],\n",
              "        [0.33353758],\n",
              "        [0.33537582],\n",
              "        [0.33680556],\n",
              "        [0.33680556],\n",
              "        [0.32271242],\n",
              "        [0.32638889],\n",
              "        [0.3188317 ],\n",
              "        [0.33986928],\n",
              "        [0.37765523],\n",
              "        [0.3999183 ],\n",
              "        [0.36968954],\n",
              "        [0.35886438],\n",
              "        [0.35927288],\n",
              "        [0.35294118],\n",
              "        [0.32107843],\n",
              "        [0.31413399],\n",
              "        [0.31740196],\n",
              "        [0.31597222],\n",
              "        [0.32209967],\n",
              "        [0.28267974],\n",
              "        [0.28492647],\n",
              "        [0.27389706],\n",
              "        [0.28778595],\n",
              "        [0.30187908],\n",
              "        [0.31045752],\n",
              "        [0.32128268],\n",
              "        [0.31454248],\n",
              "        [0.33129085],\n",
              "        [0.33292484],\n",
              "        [0.32802288],\n",
              "        [0.32291667],\n",
              "        [0.32802288],\n",
              "        [0.32312092],\n",
              "        [0.30718954],\n",
              "        [0.29595588],\n",
              "        [0.30473856],\n",
              "        [0.28288399],\n",
              "        [0.28982843],\n",
              "        [0.30412582],\n",
              "        [0.26429739],\n",
              "        [0.25285948],\n",
              "        [0.20710784],\n",
              "        [0.20261438],\n",
              "        [0.19566993],\n",
              "        [0.19546569],\n",
              "        [0.20465686],\n",
              "        [0.18974673],\n",
              "        [0.19934641],\n",
              "        [0.1942402 ],\n",
              "        [0.21527778],\n",
              "        [0.21629902],\n",
              "        [0.2183415 ],\n",
              "        [0.21997549],\n",
              "        [0.22222222],\n",
              "        [0.22753268],\n",
              "        [0.22732843],\n",
              "        [0.22324346],\n",
              "        [0.21527778],\n",
              "        [0.20690359],\n",
              "        [0.20200163],\n",
              "        [0.19955065],\n",
              "        [0.20159314],\n",
              "        [0.1807598 ],\n",
              "        [0.19178922],\n",
              "        [0.19403595],\n",
              "        [0.19566993],\n",
              "        [0.20445261],\n",
              "        [0.20772059],\n",
              "        [0.21221405],\n",
              "        [0.21956699],\n",
              "        [0.21629902],\n",
              "        [0.21629902],\n",
              "        [0.22140523],\n",
              "        [0.2120098 ],\n",
              "        [0.20547386],\n",
              "        [0.20077614],\n",
              "        [0.1997549 ],\n",
              "        [0.2001634 ],\n",
              "        [0.20506536],\n",
              "        [0.2005719 ],\n",
              "        [0.18831699],\n",
              "        [0.18811275],\n",
              "        [0.17034314],\n",
              "        [0.1621732 ],\n",
              "        [0.15972222],\n",
              "        [0.16278595],\n",
              "        [0.17340686],\n",
              "        [0.14174837],\n",
              "        [0.15441176],\n",
              "        [0.16503268],\n",
              "        [0.15563725],\n",
              "        [0.14460784],\n",
              "        [0.13684641],\n",
              "        [0.13582516],\n",
              "        [0.14072712],\n",
              "        [0.14501634],\n",
              "        [0.14195261],\n",
              "        [0.13562092],\n",
              "        [0.15053105],\n",
              "        [0.15727124],\n",
              "        [0.15461601],\n",
              "        [0.15767974],\n",
              "        [0.15114379],\n",
              "        [0.14297386],\n",
              "        [0.14215686],\n",
              "        [0.14787582],\n",
              "        [0.13970588],\n",
              "        [0.11642157],\n",
              "        [0.11131536],\n",
              "        [0.10927288],\n",
              "        [0.10334967],\n",
              "        [0.09783497],\n",
              "        [0.10089869],\n",
              "        [0.10906863],\n",
              "        [0.10171569],\n",
              "        [0.11254085],\n",
              "        [0.12704248],\n",
              "        [0.12214052],\n",
              "        [0.12704248],\n",
              "        [0.11519608],\n",
              "        [0.11008987],\n",
              "        [0.0996732 ],\n",
              "        [0.09640523],\n",
              "        [0.10089869],\n",
              "        [0.10886438],\n",
              "        [0.10866013],\n",
              "        [0.1186683 ],\n",
              "        [0.12316176],\n",
              "        [0.11029412],\n",
              "        [0.11703431],\n",
              "        [0.11008987],\n",
              "        [0.1064134 ],\n",
              "        [0.10559641],\n",
              "        [0.1004902 ],\n",
              "        [0.10784314],\n",
              "        [0.10988562],\n",
              "        [0.09763072],\n",
              "        [0.09027778],\n",
              "        [0.1123366 ],\n",
              "        [0.12867647],\n",
              "        [0.12071078],\n",
              "        [0.13031046],\n",
              "        [0.1439951 ],\n",
              "        [0.13664216],\n",
              "        [0.14910131],\n",
              "        [0.15686275],\n",
              "        [0.14685458],\n",
              "        [0.14481209],\n",
              "        [0.14195261],\n",
              "        [0.14093137],\n",
              "        [0.14583333],\n",
              "        [0.15339052],\n",
              "        [0.14889706],\n",
              "        [0.16646242],\n",
              "        [0.17585784],\n",
              "        [0.15604575],\n",
              "        [0.15522876],\n",
              "        [0.15339052],\n",
              "        [0.14644608],\n",
              "        [0.16441993],\n",
              "        [0.15236928],\n",
              "        [0.14889706],\n",
              "        [0.14705882],\n",
              "        [0.15012255],\n",
              "        [0.15522876],\n",
              "        [0.14052288],\n",
              "        [0.12826797],\n",
              "        [0.11172386],\n",
              "        [0.11805556],\n",
              "        [0.11887255],\n",
              "        [0.11519608],\n",
              "        [0.12969771],\n",
              "        [0.12254902],\n",
              "        [0.13786765],\n",
              "        [0.1313317 ],\n",
              "        [0.11744281],\n",
              "        [0.13071895],\n",
              "        [0.1431781 ],\n",
              "        [0.16115196],\n",
              "        [0.15175654],\n",
              "        [0.14644608],\n",
              "        [0.15216503],\n",
              "        [0.1435866 ],\n",
              "        [0.13419118],\n",
              "        [0.1431781 ],\n",
              "        [0.16115196],\n",
              "        [0.16176471],\n",
              "        [0.17320261],\n",
              "        [0.18218954],\n",
              "        [0.16237745],\n",
              "        [0.13112745],\n",
              "        [0.15931373],\n",
              "        [0.15951797],\n",
              "        [0.14808007],\n",
              "        [0.16278595],\n",
              "        [0.15625   ],\n",
              "        [0.16319444],\n",
              "        [0.16360294],\n",
              "        [0.16278595],\n",
              "        [0.16544118],\n",
              "        [0.15522876],\n",
              "        [0.17197712],\n",
              "        [0.1503268 ],\n",
              "        [0.13255719],\n",
              "        [0.14338235],\n",
              "        [0.15849673],\n",
              "        [0.1186683 ],\n",
              "        [0.11519608],\n",
              "        [0.10947712],\n",
              "        [0.0692402 ],\n",
              "        [0.06597222],\n",
              "        [0.05841503],\n",
              "        [0.05044935],\n",
              "        [0.04534314],\n",
              "        [0.04779412],\n",
              "        [0.05290033],\n",
              "        [0.04922386],\n",
              "        [0.06638072],\n",
              "        [0.07169118],\n",
              "        [0.05392157],\n",
              "        [0.04881536],\n",
              "        [0.04881536],\n",
              "        [0.05310458],\n",
              "        [0.04963235],\n",
              "        [0.05065359],\n",
              "        [0.05126634],\n",
              "        [0.04963235],\n",
              "        [0.05902778],\n",
              "        [0.05555556],\n",
              "        [0.04084967],\n",
              "        [0.03737745],\n",
              "        [0.03737745],\n",
              "        [0.02655229],\n",
              "        [0.02879902],\n",
              "        [0.0316585 ],\n",
              "        [0.0316585 ],\n",
              "        [0.03635621],\n",
              "        [0.02205882],\n",
              "        [0.01674837],\n",
              "        [0.01450163],\n",
              "        [0.02226307],\n",
              "        [0.03615196],\n",
              "        [0.02675654],\n",
              "        [0.03206699],\n",
              "        [0.02696078],\n",
              "        [0.03574346],\n",
              "        [0.03594771],\n",
              "        [0.04044118],\n",
              "        [0.03921569],\n",
              "        [0.04411765],\n",
              "        [0.02982026],\n",
              "        [0.0122549 ],\n",
              "        [0.01286765],\n",
              "        [0.01143791],\n",
              "        [0.00245098],\n",
              "        [0.0059232 ],\n",
              "        [0.        ],\n",
              "        [0.00714869],\n",
              "        [0.00428922],\n",
              "        [0.0067402 ],\n",
              "        [0.0063317 ],\n",
              "        [0.01123366],\n",
              "        [0.01960784],\n",
              "        [0.02757353],\n",
              "        [0.03002451],\n",
              "        [0.03349673],\n",
              "        [0.04003268],\n",
              "        [0.04084967],\n",
              "        [0.03982843],\n",
              "        [0.04166667],\n",
              "        [0.04370915],\n",
              "        [0.04758987],\n",
              "        [0.03594771],\n",
              "        [0.02839052],\n",
              "        [0.02410131],\n",
              "        [0.01715686],\n",
              "        [0.01531863],\n",
              "        [0.01756536],\n",
              "        [0.02696078],\n",
              "        [0.02696078],\n",
              "        [0.03819444],\n",
              "        [0.02839052],\n",
              "        [0.02369281],\n",
              "        [0.02920752],\n",
              "        [0.02328431],\n",
              "        [0.01919935],\n",
              "        [0.00653595],\n",
              "        [0.00061275],\n",
              "        [0.00796569],\n",
              "        [0.01245915],\n",
              "        [0.01981209],\n",
              "        [0.01940359],\n",
              "        [0.02246732],\n",
              "        [0.03125   ],\n",
              "        [0.02348856],\n",
              "        [0.0249183 ],\n",
              "        [0.02144608],\n",
              "        [0.04840686],\n",
              "        [0.04575163],\n",
              "        [0.03962418],\n",
              "        [0.03921569],\n",
              "        [0.04758987],\n",
              "        [0.04513889],\n",
              "        [0.04166667],\n",
              "        [0.04125817],\n",
              "        [0.05044935],\n",
              "        [0.05555556],\n",
              "        [0.05494281],\n",
              "        [0.05412582],\n",
              "        [0.0435049 ],\n",
              "        [0.04799837],\n",
              "        [0.05147059],\n",
              "        [0.05065359],\n",
              "        [0.03431373],\n",
              "        [0.04575163],\n",
              "        [0.04187092],\n",
              "        [0.04554739],\n",
              "        [0.03941993],\n",
              "        [0.02716503],\n",
              "        [0.03125   ],\n",
              "        [0.05882353],\n",
              "        [0.07148693],\n",
              "        [0.08721405],\n",
              "        [0.08986928],\n",
              "        [0.10498366],\n",
              "        [0.08905229],\n",
              "        [0.10355392],\n",
              "        [0.10375817],\n",
              "        [0.12275327],\n",
              "        [0.10906863],\n",
              "        [0.09660948],\n",
              "        [0.1064134 ],\n",
              "        [0.10457516],\n",
              "        [0.11049837],\n",
              "        [0.1127451 ],\n",
              "        [0.09803922],\n",
              "        [0.09987745],\n",
              "        [0.08925654],\n",
              "        [0.0747549 ],\n",
              "        [0.08169935],\n",
              "        [0.08925654],\n",
              "        [0.09068627],\n",
              "        [0.08129085],\n",
              "        [0.08823529],\n",
              "        [0.08455882],\n",
              "        [0.07945261],\n",
              "        [0.08374183],\n",
              "        [0.07781863],\n",
              "        [0.09824346],\n",
              "        [0.09089052],\n",
              "        [0.09007353],\n",
              "        [0.09558824],\n",
              "        [0.06862745],\n",
              "        [0.06372549],\n",
              "        [0.0494281 ],\n",
              "        [0.04799837],\n",
              "        [0.04534314],\n",
              "        [0.0443219 ],\n",
              "        [0.03941993],\n",
              "        [0.0379902 ],\n",
              "        [0.04656863],\n",
              "        [0.05085784],\n",
              "        [0.07209967],\n",
              "        [0.06535948],\n",
              "        [0.07230392],\n",
              "        [0.07802288],\n",
              "        [0.07741013],\n",
              "        [0.06086601],\n",
              "        [0.06413399],\n",
              "        [0.07046569],\n",
              "        [0.05412582],\n",
              "        [0.0498366 ],\n",
              "        [0.05167484],\n",
              "        [0.05330882],\n",
              "        [0.0435049 ],\n",
              "        [0.02634804],\n",
              "        [0.02410131],\n",
              "        [0.02961601],\n",
              "        [0.01960784],\n",
              "        [0.02961601],\n",
              "        [0.04575163],\n",
              "        [0.05923203],\n",
              "        [0.06678922],\n",
              "        [0.06229575],\n",
              "        [0.06311275],\n",
              "        [0.0629085 ],\n",
              "        [0.06658497],\n",
              "        [0.07434641],\n",
              "        [0.06944444],\n",
              "        [0.08088235],\n",
              "        [0.07700163],\n",
              "        [0.0684232 ],\n",
              "        [0.06781046],\n",
              "        [0.0629085 ],\n",
              "        [0.0692402 ],\n",
              "        [0.0755719 ],\n",
              "        [0.07781863],\n",
              "        [0.08088235],\n",
              "        [0.08843954],\n",
              "        [0.09395425],\n",
              "        [0.09599673],\n",
              "        [0.08660131],\n",
              "        [0.09027778],\n",
              "        [0.08517157],\n",
              "        [0.08374183],\n",
              "        [0.07945261],\n",
              "        [0.09109477],\n",
              "        [0.09129902],\n",
              "        [0.08803105],\n",
              "        [0.09681373],\n",
              "        [0.11417484],\n",
              "        [0.10498366],\n",
              "        [0.09987745],\n",
              "        [0.08537582],\n",
              "        [0.08047386],\n",
              "        [0.06862745],\n",
              "        [0.06576797],\n",
              "        [0.06147876],\n",
              "        [0.07169118],\n",
              "        [0.07026144],\n",
              "        [0.0747549 ],\n",
              "        [0.06821895],\n",
              "        [0.0692402 ],\n",
              "        [0.07066993],\n",
              "        [0.06801471],\n",
              "        [0.06678922],\n",
              "        [0.07414216],\n",
              "        [0.07169118],\n",
              "        [0.08639706],\n",
              "        [0.08312908],\n",
              "        [0.06311275],\n",
              "        [0.0629085 ],\n",
              "        [0.05167484],\n",
              "        [0.03186275],\n",
              "        [0.04003268],\n",
              "        [0.03860294],\n",
              "        [0.04105392],\n",
              "        [0.03390523],\n",
              "        [0.03125   ],\n",
              "        [0.02634804],\n",
              "        [0.05861928],\n",
              "        [0.06311275],\n",
              "        [0.0620915 ],\n",
              "        [0.05535131],\n",
              "        [0.08455882],\n",
              "        [0.05514706],\n",
              "        [0.06045752],\n",
              "        [0.0557598 ],\n",
              "        [0.0439134 ],\n",
              "        [0.02920752],\n",
              "        [0.02818627],\n",
              "        [0.04718137],\n",
              "        [0.06045752],\n",
              "        [0.05861928],\n",
              "        [0.06168301],\n",
              "        [0.06699346],\n",
              "        [0.07087418],\n",
              "        [0.0755719 ],\n",
              "        [0.07700163],\n",
              "        [0.10375817],\n",
              "        [0.10314542],\n",
              "        [0.10334967],\n",
              "        [0.10089869],\n",
              "        [0.10437092],\n",
              "        [0.09803922],\n",
              "        [0.09722222],\n",
              "        [0.09783497],\n",
              "        [0.09579248],\n",
              "        [0.09109477],\n",
              "        [0.09313725],\n",
              "        [0.08558007],\n",
              "        [0.09517974],\n",
              "        [0.11172386],\n",
              "        [0.12275327],\n",
              "        [0.12806373],\n",
              "        [0.1313317 ],\n",
              "        [0.12479575],\n",
              "        [0.11090686],\n",
              "        [0.10743464],\n",
              "        [0.11621732],\n",
              "        [0.11683007],\n",
              "        [0.11764706],\n",
              "        [0.12888072],\n",
              "        [0.12847222],\n",
              "        [0.13337418],\n",
              "        [0.14236111],\n",
              "        [0.14093137],\n",
              "        [0.13970588],\n",
              "        [0.13827614],\n",
              "        [0.13541667],\n",
              "        [0.13010621],\n",
              "        [0.12254902],\n",
              "        [0.12479575],\n",
              "        [0.13848039],\n",
              "        [0.14011438],\n",
              "        [0.13888889],\n",
              "        [0.13541667],\n",
              "        [0.14011438],\n",
              "        [0.1380719 ],\n",
              "        [0.13071895],\n",
              "        [0.13071895],\n",
              "        [0.12867647],\n",
              "        [0.11846405],\n",
              "        [0.14644608],\n",
              "        [0.14808007],\n",
              "        [0.15910948],\n",
              "        [0.15992647],\n",
              "        [0.15788399],\n",
              "        [0.16441993],\n",
              "        [0.17892157],\n",
              "        [0.17933007],\n",
              "        [0.19260621],\n",
              "        [0.20812908],\n",
              "        [0.18974673],\n",
              "        [0.18055556],\n",
              "        [0.18239379],\n",
              "        [0.17708333],\n",
              "        [0.17810458],\n",
              "        [0.18055556],\n",
              "        [0.17810458],\n",
              "        [0.17851307],\n",
              "        [0.19607843],\n",
              "        [0.18913399],\n",
              "        [0.18954248],\n",
              "        [0.19403595],\n",
              "        [0.19444444],\n",
              "        [0.20200163],\n",
              "        [0.19771242],\n",
              "        [0.19934641],\n",
              "        [0.19873366],\n",
              "        [0.1997549 ],\n",
              "        [0.2128268 ],\n",
              "        [0.21568627],\n",
              "        [0.20445261],\n",
              "        [0.21772876],\n",
              "        [0.21098856],\n",
              "        [0.21425654],\n",
              "        [0.19750817],\n",
              "        [0.18811275],\n",
              "        [0.17851307],\n",
              "        [0.17381536],\n",
              "        [0.16033497],\n",
              "        [0.16564542],\n",
              "        [0.17116013],\n",
              "        [0.17422386],\n",
              "        [0.18035131],\n",
              "        [0.17401961],\n",
              "        [0.16278595],\n",
              "        [0.16973039],\n",
              "        [0.17810458],\n",
              "        [0.17034314],\n",
              "        [0.16830065],\n",
              "        [0.17279412],\n",
              "        [0.17544935],\n",
              "        [0.18382353],\n",
              "        [0.19138072],\n",
              "        [0.18913399],\n",
              "        [0.19097222],\n",
              "        [0.17238562],\n",
              "        [0.16830065],\n",
              "        [0.1693219 ],\n",
              "        [0.17177288],\n",
              "        [0.16156046],\n",
              "        [0.14971405],\n",
              "        [0.1503268 ],\n",
              "        [0.15196078],\n",
              "        [0.14726307],\n",
              "        [0.14501634],\n",
              "        [0.14603758],\n",
              "        [0.12479575],\n",
              "        [0.13112745],\n",
              "        [0.11397059],\n",
              "        [0.1190768 ],\n",
              "        [0.12377451],\n",
              "        [0.13562092],\n",
              "        [0.12908497],\n",
              "        [0.13459967],\n",
              "        [0.12806373],\n",
              "        [0.13031046],\n",
              "        [0.12724673],\n",
              "        [0.13521242],\n",
              "        [0.14522059],\n",
              "        [0.15257353],\n",
              "        [0.14848856],\n",
              "        [0.14338235],\n",
              "        [0.14562908],\n",
              "        [0.15236928],\n",
              "        [0.15400327],\n",
              "        [0.14971405],\n",
              "        [0.1621732 ],\n",
              "        [0.16319444],\n",
              "        [0.16584967]]))"
            ]
          },
          "metadata": {},
          "execution_count": 21
        }
      ]
    },
    {
      "cell_type": "markdown",
      "source": [
        "\n",
        "# Data Preprocessing"
      ],
      "metadata": {
        "id": "rnUFe7_XKXTy"
      }
    },
    {
      "cell_type": "markdown",
      "source": [
        "Now, Splitting the data into x and y, the timestep value will be 100. In the 0th iteration the first 100 records will goes as first record and the 101 elements will be in the x. The 100 elements will be in the y\n",
        "\n",
        "converting an array of values into a dataset matrix"
      ],
      "metadata": {
        "id": "vO6DUSFDKbJU"
      }
    },
    {
      "cell_type": "code",
      "source": [
        "def create_data(dataset,time_step = 1):\n",
        "    dataX, dataY = [],[]\n",
        "    for i in range(len(dataset) - time_step - 1):\n",
        "        a = dataset[i:(i + time_step), 0]\n",
        "        dataX.append(a)\n",
        "        dataY.append(dataset[i + time_step, 0])\n",
        "    return np.array(dataX), np.array(dataY)"
      ],
      "metadata": {
        "id": "qIE64_eCKYyn"
      },
      "execution_count": null,
      "outputs": []
    },
    {
      "cell_type": "code",
      "source": [
        "time_step = 100\n",
        "x_train, y_train = create_data(train_data,time_step)\n",
        "x_test,y_test = create_data(test_data,time_step)"
      ],
      "metadata": {
        "id": "u_mxx0jKKfJy"
      },
      "execution_count": null,
      "outputs": []
    },
    {
      "cell_type": "code",
      "source": [
        "x_train"
      ],
      "metadata": {
        "colab": {
          "base_uri": "https://localhost:8080/"
        },
        "id": "GkCajE9VKiTq",
        "outputId": "98d7d5dd-a4ce-4e21-ce25-c79381c6cd42"
      },
      "execution_count": null,
      "outputs": [
        {
          "output_type": "execute_result",
          "data": {
            "text/plain": [
              "array([[0.62418301, 0.62214052, 0.62622549, ..., 0.83455882, 0.86213235,\n",
              "        0.85273693],\n",
              "       [0.62214052, 0.62622549, 0.63378268, ..., 0.86213235, 0.85273693,\n",
              "        0.87111928],\n",
              "       [0.62622549, 0.63378268, 0.62234477, ..., 0.85273693, 0.87111928,\n",
              "        0.84497549],\n",
              "       ...,\n",
              "       [0.34517974, 0.31781046, 0.33047386, ..., 0.2816585 , 0.27001634,\n",
              "        0.26531863],\n",
              "       [0.31781046, 0.33047386, 0.32128268, ..., 0.27001634, 0.26531863,\n",
              "        0.27389706],\n",
              "       [0.33047386, 0.32128268, 0.34007353, ..., 0.26531863, 0.27389706,\n",
              "        0.25347222]])"
            ]
          },
          "metadata": {},
          "execution_count": 24
        }
      ]
    },
    {
      "cell_type": "code",
      "source": [
        "x_train.shape,y_train.shape"
      ],
      "metadata": {
        "colab": {
          "base_uri": "https://localhost:8080/"
        },
        "id": "n07lmdscKkxz",
        "outputId": "51a336a7-cda5-4a13-c387-fa21ee08fd4e"
      },
      "execution_count": null,
      "outputs": [
        {
          "output_type": "execute_result",
          "data": {
            "text/plain": [
              "((1221, 100), (1221,))"
            ]
          },
          "metadata": {},
          "execution_count": 25
        }
      ]
    },
    {
      "cell_type": "code",
      "source": [
        "x_test.shape,y_test.shape"
      ],
      "metadata": {
        "colab": {
          "base_uri": "https://localhost:8080/"
        },
        "id": "p7Os3pF2Knj6",
        "outputId": "513bf560-cef9-431c-ecd5-d6bd5d0564a8"
      },
      "execution_count": null,
      "outputs": [
        {
          "output_type": "execute_result",
          "data": {
            "text/plain": [
              "((612, 100), (612,))"
            ]
          },
          "metadata": {},
          "execution_count": 26
        }
      ]
    },
    {
      "cell_type": "code",
      "source": [
        "x_train = x_train.reshape(x_train.shape[0],x_train.shape[1],1)\n",
        "x_test = x_test.reshape(x_test.shape[0],x_test.shape[1],1)"
      ],
      "metadata": {
        "id": "wRfol92NKpzU"
      },
      "execution_count": null,
      "outputs": []
    },
    {
      "cell_type": "markdown",
      "source": [
        "# Stacked LSTM"
      ],
      "metadata": {
        "id": "ICJvhNAbKu0F"
      }
    },
    {
      "cell_type": "code",
      "source": [
        "pip install tensorflow"
      ],
      "metadata": {
        "colab": {
          "base_uri": "https://localhost:8080/"
        },
        "id": "q6FYDtZ4KwPh",
        "outputId": "f9fa68e3-84eb-4824-9d9b-93676fc1bd42"
      },
      "execution_count": null,
      "outputs": [
        {
          "output_type": "stream",
          "name": "stdout",
          "text": [
            "Looking in indexes: https://pypi.org/simple, https://us-python.pkg.dev/colab-wheels/public/simple/\n",
            "Requirement already satisfied: tensorflow in /usr/local/lib/python3.7/dist-packages (2.8.2+zzzcolab20220527125636)\n",
            "Requirement already satisfied: absl-py>=0.4.0 in /usr/local/lib/python3.7/dist-packages (from tensorflow) (1.0.0)\n",
            "Requirement already satisfied: tensorflow-estimator<2.9,>=2.8 in /usr/local/lib/python3.7/dist-packages (from tensorflow) (2.8.0)\n",
            "Requirement already satisfied: astunparse>=1.6.0 in /usr/local/lib/python3.7/dist-packages (from tensorflow) (1.6.3)\n",
            "Requirement already satisfied: setuptools in /usr/local/lib/python3.7/dist-packages (from tensorflow) (57.4.0)\n",
            "Requirement already satisfied: six>=1.12.0 in /usr/local/lib/python3.7/dist-packages (from tensorflow) (1.15.0)\n",
            "Requirement already satisfied: flatbuffers>=1.12 in /usr/local/lib/python3.7/dist-packages (from tensorflow) (2.0)\n",
            "Requirement already satisfied: opt-einsum>=2.3.2 in /usr/local/lib/python3.7/dist-packages (from tensorflow) (3.3.0)\n",
            "Requirement already satisfied: h5py>=2.9.0 in /usr/local/lib/python3.7/dist-packages (from tensorflow) (3.1.0)\n",
            "Requirement already satisfied: google-pasta>=0.1.1 in /usr/local/lib/python3.7/dist-packages (from tensorflow) (0.2.0)\n",
            "Requirement already satisfied: wrapt>=1.11.0 in /usr/local/lib/python3.7/dist-packages (from tensorflow) (1.14.1)\n",
            "Requirement already satisfied: tensorflow-io-gcs-filesystem>=0.23.1 in /usr/local/lib/python3.7/dist-packages (from tensorflow) (0.26.0)\n",
            "Requirement already satisfied: numpy>=1.20 in /usr/local/lib/python3.7/dist-packages (from tensorflow) (1.21.6)\n",
            "Requirement already satisfied: gast>=0.2.1 in /usr/local/lib/python3.7/dist-packages (from tensorflow) (0.5.3)\n",
            "Requirement already satisfied: tensorboard<2.9,>=2.8 in /usr/local/lib/python3.7/dist-packages (from tensorflow) (2.8.0)\n",
            "Requirement already satisfied: keras<2.9,>=2.8.0rc0 in /usr/local/lib/python3.7/dist-packages (from tensorflow) (2.8.0)\n",
            "Requirement already satisfied: keras-preprocessing>=1.1.1 in /usr/local/lib/python3.7/dist-packages (from tensorflow) (1.1.2)\n",
            "Requirement already satisfied: libclang>=9.0.1 in /usr/local/lib/python3.7/dist-packages (from tensorflow) (14.0.1)\n",
            "Requirement already satisfied: typing-extensions>=3.6.6 in /usr/local/lib/python3.7/dist-packages (from tensorflow) (4.2.0)\n",
            "Requirement already satisfied: grpcio<2.0,>=1.24.3 in /usr/local/lib/python3.7/dist-packages (from tensorflow) (1.46.3)\n",
            "Requirement already satisfied: protobuf<3.20,>=3.9.2 in /usr/local/lib/python3.7/dist-packages (from tensorflow) (3.17.3)\n",
            "Requirement already satisfied: termcolor>=1.1.0 in /usr/local/lib/python3.7/dist-packages (from tensorflow) (1.1.0)\n",
            "Requirement already satisfied: wheel<1.0,>=0.23.0 in /usr/local/lib/python3.7/dist-packages (from astunparse>=1.6.0->tensorflow) (0.37.1)\n",
            "Requirement already satisfied: cached-property in /usr/local/lib/python3.7/dist-packages (from h5py>=2.9.0->tensorflow) (1.5.2)\n",
            "Requirement already satisfied: markdown>=2.6.8 in /usr/local/lib/python3.7/dist-packages (from tensorboard<2.9,>=2.8->tensorflow) (3.3.7)\n",
            "Requirement already satisfied: requests<3,>=2.21.0 in /usr/local/lib/python3.7/dist-packages (from tensorboard<2.9,>=2.8->tensorflow) (2.23.0)\n",
            "Requirement already satisfied: google-auth-oauthlib<0.5,>=0.4.1 in /usr/local/lib/python3.7/dist-packages (from tensorboard<2.9,>=2.8->tensorflow) (0.4.6)\n",
            "Requirement already satisfied: google-auth<3,>=1.6.3 in /usr/local/lib/python3.7/dist-packages (from tensorboard<2.9,>=2.8->tensorflow) (1.35.0)\n",
            "Requirement already satisfied: tensorboard-plugin-wit>=1.6.0 in /usr/local/lib/python3.7/dist-packages (from tensorboard<2.9,>=2.8->tensorflow) (1.8.1)\n",
            "Requirement already satisfied: werkzeug>=0.11.15 in /usr/local/lib/python3.7/dist-packages (from tensorboard<2.9,>=2.8->tensorflow) (1.0.1)\n",
            "Requirement already satisfied: tensorboard-data-server<0.7.0,>=0.6.0 in /usr/local/lib/python3.7/dist-packages (from tensorboard<2.9,>=2.8->tensorflow) (0.6.1)\n",
            "Requirement already satisfied: pyasn1-modules>=0.2.1 in /usr/local/lib/python3.7/dist-packages (from google-auth<3,>=1.6.3->tensorboard<2.9,>=2.8->tensorflow) (0.2.8)\n",
            "Requirement already satisfied: rsa<5,>=3.1.4 in /usr/local/lib/python3.7/dist-packages (from google-auth<3,>=1.6.3->tensorboard<2.9,>=2.8->tensorflow) (4.8)\n",
            "Requirement already satisfied: cachetools<5.0,>=2.0.0 in /usr/local/lib/python3.7/dist-packages (from google-auth<3,>=1.6.3->tensorboard<2.9,>=2.8->tensorflow) (4.2.4)\n",
            "Requirement already satisfied: requests-oauthlib>=0.7.0 in /usr/local/lib/python3.7/dist-packages (from google-auth-oauthlib<0.5,>=0.4.1->tensorboard<2.9,>=2.8->tensorflow) (1.3.1)\n",
            "Requirement already satisfied: importlib-metadata>=4.4 in /usr/local/lib/python3.7/dist-packages (from markdown>=2.6.8->tensorboard<2.9,>=2.8->tensorflow) (4.11.4)\n",
            "Requirement already satisfied: zipp>=0.5 in /usr/local/lib/python3.7/dist-packages (from importlib-metadata>=4.4->markdown>=2.6.8->tensorboard<2.9,>=2.8->tensorflow) (3.8.0)\n",
            "Requirement already satisfied: pyasn1<0.5.0,>=0.4.6 in /usr/local/lib/python3.7/dist-packages (from pyasn1-modules>=0.2.1->google-auth<3,>=1.6.3->tensorboard<2.9,>=2.8->tensorflow) (0.4.8)\n",
            "Requirement already satisfied: urllib3!=1.25.0,!=1.25.1,<1.26,>=1.21.1 in /usr/local/lib/python3.7/dist-packages (from requests<3,>=2.21.0->tensorboard<2.9,>=2.8->tensorflow) (1.24.3)\n",
            "Requirement already satisfied: idna<3,>=2.5 in /usr/local/lib/python3.7/dist-packages (from requests<3,>=2.21.0->tensorboard<2.9,>=2.8->tensorflow) (2.10)\n",
            "Requirement already satisfied: certifi>=2017.4.17 in /usr/local/lib/python3.7/dist-packages (from requests<3,>=2.21.0->tensorboard<2.9,>=2.8->tensorflow) (2022.5.18.1)\n",
            "Requirement already satisfied: chardet<4,>=3.0.2 in /usr/local/lib/python3.7/dist-packages (from requests<3,>=2.21.0->tensorboard<2.9,>=2.8->tensorflow) (3.0.4)\n",
            "Requirement already satisfied: oauthlib>=3.0.0 in /usr/local/lib/python3.7/dist-packages (from requests-oauthlib>=0.7.0->google-auth-oauthlib<0.5,>=0.4.1->tensorboard<2.9,>=2.8->tensorflow) (3.2.0)\n"
          ]
        }
      ]
    },
    {
      "cell_type": "code",
      "source": [
        "from tensorflow.keras.models import Sequential\n",
        "from tensorflow.keras.layers import Dense\n",
        "from tensorflow.keras.layers import LSTM"
      ],
      "metadata": {
        "id": "NBNkdMXjK0KX"
      },
      "execution_count": null,
      "outputs": []
    },
    {
      "cell_type": "code",
      "source": [
        "model = Sequential()\n",
        "model.add(LSTM(50, return_sequences = True, input_shape = (100,1)))\n",
        "model.add(LSTM(50, return_sequences = True))\n",
        "model.add(LSTM(50))\n",
        "model.add(Dense(1))\n",
        "model.compile(loss = 'mean_squared_error', optimizer = 'adam')"
      ],
      "metadata": {
        "id": "jO6Bqr3XK3SX"
      },
      "execution_count": null,
      "outputs": []
    },
    {
      "cell_type": "code",
      "source": [
        "model.summary()"
      ],
      "metadata": {
        "colab": {
          "base_uri": "https://localhost:8080/"
        },
        "id": "4enpvC4GK5WC",
        "outputId": "060b56ba-1711-46f4-ce65-9baa71469bcc"
      },
      "execution_count": null,
      "outputs": [
        {
          "output_type": "stream",
          "name": "stdout",
          "text": [
            "Model: \"sequential\"\n",
            "_________________________________________________________________\n",
            " Layer (type)                Output Shape              Param #   \n",
            "=================================================================\n",
            " lstm (LSTM)                 (None, 100, 50)           10400     \n",
            "                                                                 \n",
            " lstm_1 (LSTM)               (None, 100, 50)           20200     \n",
            "                                                                 \n",
            " lstm_2 (LSTM)               (None, 50)                20200     \n",
            "                                                                 \n",
            " dense (Dense)               (None, 1)                 51        \n",
            "                                                                 \n",
            "=================================================================\n",
            "Total params: 50,851\n",
            "Trainable params: 50,851\n",
            "Non-trainable params: 0\n",
            "_________________________________________________________________\n"
          ]
        }
      ]
    },
    {
      "cell_type": "code",
      "source": [
        "model.fit(x_train,y_train,validation_data = (x_test,y_test),epochs = 100, batch_size = 64, verbose = 1)"
      ],
      "metadata": {
        "colab": {
          "base_uri": "https://localhost:8080/"
        },
        "id": "vwAxIyJXK8lW",
        "outputId": "c687fb20-bb40-4695-c9bf-7be510abab22"
      },
      "execution_count": null,
      "outputs": [
        {
          "output_type": "stream",
          "name": "stdout",
          "text": [
            "Epoch 1/100\n",
            "20/20 [==============================] - 10s 254ms/step - loss: 0.0266 - val_loss: 0.0052\n",
            "Epoch 2/100\n",
            "20/20 [==============================] - 4s 184ms/step - loss: 0.0029 - val_loss: 0.0016\n",
            "Epoch 3/100\n",
            "20/20 [==============================] - 4s 182ms/step - loss: 0.0016 - val_loss: 9.9202e-04\n",
            "Epoch 4/100\n",
            "20/20 [==============================] - 4s 185ms/step - loss: 0.0014 - val_loss: 0.0011\n",
            "Epoch 5/100\n",
            "20/20 [==============================] - 4s 186ms/step - loss: 0.0013 - val_loss: 9.5761e-04\n",
            "Epoch 6/100\n",
            "20/20 [==============================] - 4s 184ms/step - loss: 0.0013 - val_loss: 0.0013\n",
            "Epoch 7/100\n",
            "20/20 [==============================] - 4s 186ms/step - loss: 0.0013 - val_loss: 0.0010\n",
            "Epoch 8/100\n",
            "20/20 [==============================] - 4s 185ms/step - loss: 0.0013 - val_loss: 0.0010\n",
            "Epoch 9/100\n",
            "20/20 [==============================] - 4s 184ms/step - loss: 0.0012 - val_loss: 9.9498e-04\n",
            "Epoch 10/100\n",
            "20/20 [==============================] - 4s 185ms/step - loss: 0.0011 - val_loss: 0.0013\n",
            "Epoch 11/100\n",
            "20/20 [==============================] - 4s 184ms/step - loss: 0.0011 - val_loss: 0.0011\n",
            "Epoch 12/100\n",
            "20/20 [==============================] - 4s 183ms/step - loss: 9.9304e-04 - val_loss: 9.6642e-04\n",
            "Epoch 13/100\n",
            "20/20 [==============================] - 4s 184ms/step - loss: 0.0012 - val_loss: 0.0011\n",
            "Epoch 14/100\n",
            "20/20 [==============================] - 4s 186ms/step - loss: 0.0011 - val_loss: 8.1783e-04\n",
            "Epoch 15/100\n",
            "20/20 [==============================] - 4s 187ms/step - loss: 9.0510e-04 - val_loss: 8.6539e-04\n",
            "Epoch 16/100\n",
            "20/20 [==============================] - 4s 186ms/step - loss: 8.9406e-04 - val_loss: 7.0233e-04\n",
            "Epoch 17/100\n",
            "20/20 [==============================] - 4s 184ms/step - loss: 8.4436e-04 - val_loss: 7.8175e-04\n",
            "Epoch 18/100\n",
            "20/20 [==============================] - 4s 190ms/step - loss: 8.6040e-04 - val_loss: 7.8352e-04\n",
            "Epoch 19/100\n",
            "20/20 [==============================] - 4s 187ms/step - loss: 7.9373e-04 - val_loss: 7.8823e-04\n",
            "Epoch 20/100\n",
            "20/20 [==============================] - 4s 188ms/step - loss: 7.6128e-04 - val_loss: 7.6304e-04\n",
            "Epoch 21/100\n",
            "20/20 [==============================] - 4s 188ms/step - loss: 7.4759e-04 - val_loss: 6.7647e-04\n",
            "Epoch 22/100\n",
            "20/20 [==============================] - 4s 190ms/step - loss: 7.7033e-04 - val_loss: 7.7625e-04\n",
            "Epoch 23/100\n",
            "20/20 [==============================] - 4s 216ms/step - loss: 7.1522e-04 - val_loss: 6.8715e-04\n",
            "Epoch 24/100\n",
            "20/20 [==============================] - 4s 191ms/step - loss: 7.9082e-04 - val_loss: 8.9411e-04\n",
            "Epoch 25/100\n",
            "20/20 [==============================] - 4s 183ms/step - loss: 9.0936e-04 - val_loss: 7.3581e-04\n",
            "Epoch 26/100\n",
            "20/20 [==============================] - 4s 188ms/step - loss: 7.1675e-04 - val_loss: 7.0046e-04\n",
            "Epoch 27/100\n",
            "20/20 [==============================] - 4s 185ms/step - loss: 9.1361e-04 - val_loss: 7.3349e-04\n",
            "Epoch 28/100\n",
            "20/20 [==============================] - 4s 184ms/step - loss: 6.8950e-04 - val_loss: 6.8047e-04\n",
            "Epoch 29/100\n",
            "20/20 [==============================] - 4s 202ms/step - loss: 7.6344e-04 - val_loss: 7.4540e-04\n",
            "Epoch 30/100\n",
            "20/20 [==============================] - 4s 211ms/step - loss: 6.5597e-04 - val_loss: 6.2191e-04\n",
            "Epoch 31/100\n",
            "20/20 [==============================] - 4s 187ms/step - loss: 6.3531e-04 - val_loss: 5.7483e-04\n",
            "Epoch 32/100\n",
            "20/20 [==============================] - 4s 186ms/step - loss: 8.3903e-04 - val_loss: 5.8925e-04\n",
            "Epoch 33/100\n",
            "20/20 [==============================] - 4s 185ms/step - loss: 6.9607e-04 - val_loss: 6.1360e-04\n",
            "Epoch 34/100\n",
            "20/20 [==============================] - 4s 185ms/step - loss: 6.3060e-04 - val_loss: 8.7859e-04\n",
            "Epoch 35/100\n",
            "20/20 [==============================] - 4s 185ms/step - loss: 6.9021e-04 - val_loss: 0.0010\n",
            "Epoch 36/100\n",
            "20/20 [==============================] - 4s 186ms/step - loss: 6.3279e-04 - val_loss: 6.5237e-04\n",
            "Epoch 37/100\n",
            "20/20 [==============================] - 4s 187ms/step - loss: 5.9133e-04 - val_loss: 5.9539e-04\n",
            "Epoch 38/100\n",
            "20/20 [==============================] - 4s 186ms/step - loss: 6.3080e-04 - val_loss: 8.3417e-04\n",
            "Epoch 39/100\n",
            "20/20 [==============================] - 4s 186ms/step - loss: 6.1353e-04 - val_loss: 5.3296e-04\n",
            "Epoch 40/100\n",
            "20/20 [==============================] - 4s 189ms/step - loss: 6.0969e-04 - val_loss: 6.1942e-04\n",
            "Epoch 41/100\n",
            "20/20 [==============================] - 4s 188ms/step - loss: 5.7365e-04 - val_loss: 5.4062e-04\n",
            "Epoch 42/100\n",
            "20/20 [==============================] - 4s 190ms/step - loss: 6.1168e-04 - val_loss: 6.9236e-04\n",
            "Epoch 43/100\n",
            "20/20 [==============================] - 4s 190ms/step - loss: 5.3826e-04 - val_loss: 4.8800e-04\n",
            "Epoch 44/100\n",
            "20/20 [==============================] - 4s 188ms/step - loss: 5.7093e-04 - val_loss: 5.9594e-04\n",
            "Epoch 45/100\n",
            "20/20 [==============================] - 4s 188ms/step - loss: 5.3387e-04 - val_loss: 5.3923e-04\n",
            "Epoch 46/100\n",
            "20/20 [==============================] - 4s 188ms/step - loss: 5.2220e-04 - val_loss: 7.9412e-04\n",
            "Epoch 47/100\n",
            "20/20 [==============================] - 4s 185ms/step - loss: 7.1523e-04 - val_loss: 6.1384e-04\n",
            "Epoch 48/100\n",
            "20/20 [==============================] - 4s 186ms/step - loss: 8.3715e-04 - val_loss: 4.8030e-04\n",
            "Epoch 49/100\n",
            "20/20 [==============================] - 4s 188ms/step - loss: 6.6328e-04 - val_loss: 5.2621e-04\n",
            "Epoch 50/100\n",
            "20/20 [==============================] - 4s 184ms/step - loss: 5.6060e-04 - val_loss: 5.0942e-04\n",
            "Epoch 51/100\n",
            "20/20 [==============================] - 4s 187ms/step - loss: 5.1314e-04 - val_loss: 5.5359e-04\n",
            "Epoch 52/100\n",
            "20/20 [==============================] - 4s 190ms/step - loss: 5.1117e-04 - val_loss: 4.3154e-04\n",
            "Epoch 53/100\n",
            "20/20 [==============================] - 4s 187ms/step - loss: 4.6950e-04 - val_loss: 5.0638e-04\n",
            "Epoch 54/100\n",
            "20/20 [==============================] - 4s 185ms/step - loss: 4.8332e-04 - val_loss: 6.5638e-04\n",
            "Epoch 55/100\n",
            "20/20 [==============================] - 4s 187ms/step - loss: 4.6024e-04 - val_loss: 6.3055e-04\n",
            "Epoch 56/100\n",
            "20/20 [==============================] - 4s 184ms/step - loss: 4.9671e-04 - val_loss: 4.1860e-04\n",
            "Epoch 57/100\n",
            "20/20 [==============================] - 4s 188ms/step - loss: 5.2123e-04 - val_loss: 4.7951e-04\n",
            "Epoch 58/100\n",
            "20/20 [==============================] - 4s 186ms/step - loss: 6.0748e-04 - val_loss: 7.6373e-04\n",
            "Epoch 59/100\n",
            "20/20 [==============================] - 4s 186ms/step - loss: 4.9766e-04 - val_loss: 4.5899e-04\n",
            "Epoch 60/100\n",
            "20/20 [==============================] - 4s 184ms/step - loss: 4.8901e-04 - val_loss: 4.8254e-04\n",
            "Epoch 61/100\n",
            "20/20 [==============================] - 4s 186ms/step - loss: 4.4055e-04 - val_loss: 5.1312e-04\n",
            "Epoch 62/100\n",
            "20/20 [==============================] - 4s 185ms/step - loss: 4.5479e-04 - val_loss: 4.0346e-04\n",
            "Epoch 63/100\n",
            "20/20 [==============================] - 4s 185ms/step - loss: 4.1725e-04 - val_loss: 4.7359e-04\n",
            "Epoch 64/100\n",
            "20/20 [==============================] - 4s 185ms/step - loss: 4.1974e-04 - val_loss: 5.5831e-04\n",
            "Epoch 65/100\n",
            "20/20 [==============================] - 4s 187ms/step - loss: 4.0915e-04 - val_loss: 4.1465e-04\n",
            "Epoch 66/100\n",
            "20/20 [==============================] - 4s 184ms/step - loss: 3.8102e-04 - val_loss: 3.4266e-04\n",
            "Epoch 67/100\n",
            "20/20 [==============================] - 4s 186ms/step - loss: 3.8677e-04 - val_loss: 3.4740e-04\n",
            "Epoch 68/100\n",
            "20/20 [==============================] - 4s 186ms/step - loss: 3.7989e-04 - val_loss: 4.5505e-04\n",
            "Epoch 69/100\n",
            "20/20 [==============================] - 4s 187ms/step - loss: 4.1997e-04 - val_loss: 4.9636e-04\n",
            "Epoch 70/100\n",
            "20/20 [==============================] - 4s 187ms/step - loss: 3.6436e-04 - val_loss: 4.9112e-04\n",
            "Epoch 71/100\n",
            "20/20 [==============================] - 4s 187ms/step - loss: 3.8436e-04 - val_loss: 3.7199e-04\n",
            "Epoch 72/100\n",
            "20/20 [==============================] - 4s 188ms/step - loss: 4.3336e-04 - val_loss: 3.3897e-04\n",
            "Epoch 73/100\n",
            "20/20 [==============================] - 4s 187ms/step - loss: 4.0085e-04 - val_loss: 3.2927e-04\n",
            "Epoch 74/100\n",
            "20/20 [==============================] - 4s 185ms/step - loss: 5.8258e-04 - val_loss: 4.4630e-04\n",
            "Epoch 75/100\n",
            "20/20 [==============================] - 4s 190ms/step - loss: 5.0870e-04 - val_loss: 3.4301e-04\n",
            "Epoch 76/100\n",
            "20/20 [==============================] - 4s 186ms/step - loss: 3.3864e-04 - val_loss: 3.1986e-04\n",
            "Epoch 77/100\n",
            "20/20 [==============================] - 4s 186ms/step - loss: 3.8891e-04 - val_loss: 2.8948e-04\n",
            "Epoch 78/100\n",
            "20/20 [==============================] - 4s 188ms/step - loss: 3.8567e-04 - val_loss: 2.9934e-04\n",
            "Epoch 79/100\n",
            "20/20 [==============================] - 4s 187ms/step - loss: 5.8924e-04 - val_loss: 2.6567e-04\n",
            "Epoch 80/100\n",
            "20/20 [==============================] - 4s 188ms/step - loss: 4.9385e-04 - val_loss: 4.4370e-04\n",
            "Epoch 81/100\n",
            "20/20 [==============================] - 4s 188ms/step - loss: 3.6035e-04 - val_loss: 3.4027e-04\n",
            "Epoch 82/100\n",
            "20/20 [==============================] - 4s 187ms/step - loss: 3.2213e-04 - val_loss: 3.4911e-04\n",
            "Epoch 83/100\n",
            "20/20 [==============================] - 4s 184ms/step - loss: 3.1284e-04 - val_loss: 3.2210e-04\n",
            "Epoch 84/100\n",
            "20/20 [==============================] - 4s 186ms/step - loss: 3.5328e-04 - val_loss: 2.8721e-04\n",
            "Epoch 85/100\n",
            "20/20 [==============================] - 4s 187ms/step - loss: 3.0063e-04 - val_loss: 2.9519e-04\n",
            "Epoch 86/100\n",
            "20/20 [==============================] - 4s 189ms/step - loss: 2.9548e-04 - val_loss: 2.6866e-04\n",
            "Epoch 87/100\n",
            "20/20 [==============================] - 4s 187ms/step - loss: 3.0515e-04 - val_loss: 3.3207e-04\n",
            "Epoch 88/100\n",
            "20/20 [==============================] - 4s 187ms/step - loss: 3.5362e-04 - val_loss: 2.3973e-04\n",
            "Epoch 89/100\n",
            "20/20 [==============================] - 4s 186ms/step - loss: 3.1396e-04 - val_loss: 2.3807e-04\n",
            "Epoch 90/100\n",
            "20/20 [==============================] - 4s 183ms/step - loss: 2.8975e-04 - val_loss: 3.9460e-04\n",
            "Epoch 91/100\n",
            "20/20 [==============================] - 4s 185ms/step - loss: 3.2100e-04 - val_loss: 2.8395e-04\n",
            "Epoch 92/100\n",
            "20/20 [==============================] - 4s 184ms/step - loss: 2.8380e-04 - val_loss: 2.4614e-04\n",
            "Epoch 93/100\n",
            "20/20 [==============================] - 4s 181ms/step - loss: 3.0932e-04 - val_loss: 2.7776e-04\n",
            "Epoch 94/100\n",
            "20/20 [==============================] - 4s 188ms/step - loss: 2.9031e-04 - val_loss: 2.5501e-04\n",
            "Epoch 95/100\n",
            "20/20 [==============================] - 4s 190ms/step - loss: 2.7111e-04 - val_loss: 2.4224e-04\n",
            "Epoch 96/100\n",
            "20/20 [==============================] - 4s 186ms/step - loss: 2.6728e-04 - val_loss: 2.5990e-04\n",
            "Epoch 97/100\n",
            "20/20 [==============================] - 4s 190ms/step - loss: 2.6001e-04 - val_loss: 2.5168e-04\n",
            "Epoch 98/100\n",
            "20/20 [==============================] - 4s 189ms/step - loss: 2.7719e-04 - val_loss: 2.8927e-04\n",
            "Epoch 99/100\n",
            "20/20 [==============================] - 4s 187ms/step - loss: 2.8836e-04 - val_loss: 2.5877e-04\n",
            "Epoch 100/100\n",
            "20/20 [==============================] - 4s 190ms/step - loss: 2.8904e-04 - val_loss: 2.1089e-04\n"
          ]
        },
        {
          "output_type": "execute_result",
          "data": {
            "text/plain": [
              "<keras.callbacks.History at 0x7f4e930398d0>"
            ]
          },
          "metadata": {},
          "execution_count": 32
        }
      ]
    },
    {
      "cell_type": "markdown",
      "source": [
        "# Prediction"
      ],
      "metadata": {
        "id": "_2ZVLtkyNT5O"
      }
    },
    {
      "cell_type": "code",
      "source": [
        "train_predict = model.predict(x_train)\n",
        "test_predict = model.predict(x_test)"
      ],
      "metadata": {
        "id": "hJOr2M9xNU8d"
      },
      "execution_count": null,
      "outputs": []
    },
    {
      "cell_type": "code",
      "source": [
        "train_predict = scaler.inverse_transform(train_predict)\n",
        "test_predict = scaler.inverse_transform(test_predict)"
      ],
      "metadata": {
        "id": "ybWFfv6QNYba"
      },
      "execution_count": null,
      "outputs": []
    },
    {
      "cell_type": "code",
      "source": [
        "import math\n",
        "from sklearn.metrics import mean_squared_error\n",
        "math.sqrt(mean_squared_error(y_train,train_predict))"
      ],
      "metadata": {
        "colab": {
          "base_uri": "https://localhost:8080/"
        },
        "id": "3-B-8mIjNbBO",
        "outputId": "9bce2d61-a735-4aa2-a446-9aaa2d0d33bf"
      },
      "execution_count": null,
      "outputs": [
        {
          "output_type": "execute_result",
          "data": {
            "text/plain": [
              "163.46081996960694"
            ]
          },
          "metadata": {},
          "execution_count": 35
        }
      ]
    },
    {
      "cell_type": "code",
      "source": [
        "math.sqrt(mean_squared_error(y_test,test_predict))"
      ],
      "metadata": {
        "colab": {
          "base_uri": "https://localhost:8080/"
        },
        "id": "IFxS9NeDNePr",
        "outputId": "bcf5a212-7cda-47f3-ce13-97a6460ae28d"
      },
      "execution_count": null,
      "outputs": [
        {
          "output_type": "execute_result",
          "data": {
            "text/plain": [
              "114.40808120062596"
            ]
          },
          "metadata": {},
          "execution_count": 36
        }
      ]
    },
    {
      "cell_type": "markdown",
      "source": [
        "# Plotting"
      ],
      "metadata": {
        "id": "Baj2L6pINhpC"
      }
    },
    {
      "cell_type": "code",
      "source": [
        "look_back = 100\n",
        "\n",
        "# shift train prediction\n",
        "trainPredict = np.empty_like(df)\n",
        "trainPredict[:,:] = np.nan\n",
        "trainPredict[look_back:len(train_predict)+look_back, :] = train_predict\n",
        "\n",
        "# shift test prediction\n",
        "testPredict = np.empty_like(df)\n",
        "testPredict[:,:] = np.nan\n",
        "testPredict[len(train_predict) + (look_back * 2)+1:len(df)-1, :] = test_predict\n",
        "\n",
        "# plot baseline and predictions\n",
        "plt.plot(scaler.inverse_transform(df))\n",
        "plt.plot(trainPredict)\n",
        "plt.plot(testPredict)\n",
        "plt.show()"
      ],
      "metadata": {
        "colab": {
          "base_uri": "https://localhost:8080/",
          "height": 265
        },
        "id": "H8kApmuJNjB7",
        "outputId": "ebd6aa0d-a253-4d94-d5c6-5280f2d9b540"
      },
      "execution_count": null,
      "outputs": [
        {
          "output_type": "display_data",
          "data": {
            "text/plain": [
              "<Figure size 432x288 with 1 Axes>"
            ],
            "image/png": "[encoded data removed]"
          },
          "metadata": {
            "needs_background": "light"
          }
        }
      ]
    }
  ]
}