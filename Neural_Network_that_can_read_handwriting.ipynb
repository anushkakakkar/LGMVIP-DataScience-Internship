{
  "cells": [
    {
      "cell_type": "markdown",
      "metadata": {
        "id": "view-in-github",
        "colab_type": "text"
      },
      "source": [
        "<a href=\"https://colab.research.google.com/github/anushkakakkar/LGMVIP-DataScience-Internship/blob/main/Neural_Network_that_can_read_handwriting.ipynb\" target=\"_parent\"><img src=\"https://colab.research.google.com/assets/colab-badge.svg\" alt=\"Open In Colab\"/></a>"
      ]
    },
    {
      "cell_type": "markdown",
      "metadata": {
        "id": "cIksUgiWQaX9"
      },
      "source": [
        "# LetsGrowMore\n",
        "\n",
        "## Name : Anushka Kakkar\n",
        "\n",
        "# Task4: Develop A Neural Network That Can Read Handwriting :\n",
        "\n",
        "# Level : Advanced level task\n",
        "\n",
        "Begin my neural network machine learning project with the MNIST Handwritten Digit Classification Challenge and using Tensorflow and CNN. It has a very user-friendly interface that’s ideal for beginners.\n",
        "\n",
        "Dataset link : https://en.wikipedia.org/wiki/MNIST_database\n"
      ]
    },
    {
      "cell_type": "markdown",
      "metadata": {
        "id": "lnWa1X_KRDLk"
      },
      "source": [
        "# Importing Libraries\n"
      ]
    },
    {
      "cell_type": "code",
      "execution_count": 1,
      "metadata": {
        "id": "5esZid6hPBG9"
      },
      "outputs": [],
      "source": [
        "#Importing packages\n",
        "import tensorflow as tf\n",
        "import numpy as np\n",
        "from matplotlib import pyplot as plt\n",
        "import seaborn as sns\n",
        "import warnings \n",
        "warnings.filterwarnings('ignore')"
      ]
    },
    {
      "cell_type": "markdown",
      "metadata": {
        "id": "q393z-_SRJg9"
      },
      "source": [
        "# Loading dataset"
      ]
    },
    {
      "cell_type": "code",
      "execution_count": 2,
      "metadata": {
        "colab": {
          "base_uri": "https://localhost:8080/"
        },
        "id": "0GZYTuvQPEq_",
        "outputId": "38c9b93c-b10f-4b30-a9c4-b6f99f5f6df1"
      },
      "outputs": [
        {
          "output_type": "stream",
          "name": "stdout",
          "text": [
            "Downloading data from https://storage.googleapis.com/tensorflow/tf-keras-datasets/mnist.npz\n",
            "11493376/11490434 [==============================] - 0s 0us/step\n",
            "11501568/11490434 [==============================] - 0s 0us/step\n"
          ]
        }
      ],
      "source": [
        "(x_train,y_train),(x_test,y_test)=tf.keras.datasets.mnist.load_data()"
      ]
    },
    {
      "cell_type": "markdown",
      "metadata": {
        "id": "NQOVzX4KRMuq"
      },
      "source": [
        "# Displaying some images"
      ]
    },
    {
      "cell_type": "code",
      "execution_count": 3,
      "metadata": {
        "colab": {
          "base_uri": "https://localhost:8080/",
          "height": 499
        },
        "id": "1MTDwxsYPLqG",
        "outputId": "633cf435-2960-4dda-c254-2981f50650e3"
      },
      "outputs": [
        {
          "output_type": "display_data",
          "data": {
            "text/plain": [
              "<Figure size 864x576 with 9 Axes>"
            ],
            "image/png": "[encoded data removed]"
          },
          "metadata": {
            "needs_background": "light"
          }
        }
      ],
      "source": [
        "plt.figure(figsize=(12, 8))\n",
        "np.random.seed(0)\n",
        "idx = np.random.randint(0, 60000, 9)\n",
        "\n",
        "for i in range(len(idx)):\n",
        "    plt.subplot(3, 3, i+1)\n",
        "    plt.title(y_train[idx[i]])\n",
        "    grid_data = np.reshape(x_train[idx[i]], (28,28))\n",
        "    plt.imshow(grid_data, cmap='gray')"
      ]
    },
    {
      "cell_type": "markdown",
      "metadata": {
        "id": "tOIm1aomRQ4C"
      },
      "source": [
        "# Plotting count plot"
      ]
    },
    {
      "cell_type": "code",
      "execution_count": 4,
      "metadata": {
        "colab": {
          "base_uri": "https://localhost:8080/",
          "height": 391
        },
        "id": "Ovy4qBewPVxq",
        "outputId": "a53b69dc-9f57-4aff-8393-f2f47074b4a6"
      },
      "outputs": [
        {
          "output_type": "execute_result",
          "data": {
            "text/plain": [
              "<matplotlib.axes._subplots.AxesSubplot at 0x7ff3198ddd10>"
            ]
          },
          "metadata": {},
          "execution_count": 4
        },
        {
          "output_type": "display_data",
          "data": {
            "text/plain": [
              "<Figure size 864x432 with 1 Axes>"
            ],
            "image/png": "[encoded data removed]"
          },
          "metadata": {
            "needs_background": "light"
          }
        }
      ],
      "source": [
        "plt.figure(figsize = (12,6))\n",
        "sns.countplot(y_train,palette=\"mako\")"
      ]
    },
    {
      "cell_type": "markdown",
      "metadata": {
        "id": "IEBTiCQdRZST"
      },
      "source": [
        "# Pre-processing the data"
      ]
    },
    {
      "cell_type": "code",
      "execution_count": 5,
      "metadata": {
        "colab": {
          "base_uri": "https://localhost:8080/"
        },
        "id": "TinWDzuBPXZk",
        "outputId": "9efbaa4e-95ad-4141-cf76-3bb846e37ed8"
      },
      "outputs": [
        {
          "output_type": "stream",
          "name": "stdout",
          "text": [
            "Training images shape :  (60000, 28, 28)\n",
            "Testing images shape :  (10000, 28, 28)\n"
          ]
        }
      ],
      "source": [
        "# Pre-processing the data\n",
        "print('Training images shape : ',x_train.shape)\n",
        "print('Testing images shape : ',x_test.shape)"
      ]
    },
    {
      "cell_type": "code",
      "execution_count": 6,
      "metadata": {
        "id": "H4eVq5hBPaPv"
      },
      "outputs": [],
      "source": [
        "x_train = x_train.reshape(x_train.shape[0], 28, 28, 1)\n",
        "x_test = x_test.reshape(x_test.shape[0], 28, 28, 1)\n",
        "input_shape = (28, 28, 1)"
      ]
    },
    {
      "cell_type": "code",
      "execution_count": 7,
      "metadata": {
        "id": "6QQncAguPdYv"
      },
      "outputs": [],
      "source": [
        "# Applying Normalization\n",
        "x_train=x_train/255.0\n",
        "x_test=x_test/255.0\n",
        "num_classes = 10"
      ]
    },
    {
      "cell_type": "markdown",
      "metadata": {
        "id": "rI2pK4mGPhgG"
      },
      "source": [
        "# Creating the model\n",
        "\n",
        "Model Architecture\n",
        "\n",
        "We will have to first build the model architecture and define it based on our dataset. We are going to add the following layers:\n",
        "\n",
        "Conv2D - for the convolution layers\n",
        "\n",
        "Dropout - to prevent overfitting\n",
        "\n",
        "Dense - a fully connected layer\n",
        "\n",
        "Softmax activation - This is used to convert all predictions into probability The model architecture can be tuned to get optimal performance\n",
        "\n",
        "so i am going to create a model with"
      ]
    },
    {
      "cell_type": "markdown",
      "metadata": {
        "id": "K9t05MuHP0jD"
      },
      "source": [
        "# CNN + Three layers + relu + (3,3) kernel_size + Dropout rate (0.3)"
      ]
    },
    {
      "cell_type": "code",
      "execution_count": 8,
      "metadata": {
        "id": "Mj9LgMASPzlO"
      },
      "outputs": [],
      "source": [
        "from tensorflow.keras.models import Sequential\n",
        "from tensorflow.keras.layers import Dense, Dropout, Flatten,Activation\n",
        "from tensorflow.keras.layers import Conv2D,MaxPooling2D\n",
        "from tensorflow.keras.layers import BatchNormalization"
      ]
    },
    {
      "cell_type": "code",
      "execution_count": 9,
      "metadata": {
        "id": "3AhUu7PzP4Gn"
      },
      "outputs": [],
      "source": [
        "model = Sequential()\n",
        "\n",
        "model.add(Conv2D(128, kernel_size=(3, 3),\n",
        "                 activation=tf.nn.relu,\n",
        "                 input_shape=input_shape))\n",
        "model.add(BatchNormalization())\n",
        "model.add(Dropout(0.3))\n",
        "\n",
        "model.add(Conv2D(64, (3, 3), activation=tf.nn.relu))\n",
        "model.add(BatchNormalization())\n",
        "model.add(Dropout(0.3))\n",
        "\n",
        "model.add(Conv2D(32, (3, 3), activation=tf.nn.relu))\n",
        "model.add(BatchNormalization())\n",
        "model.add(Dropout(0.3))\n",
        "\n",
        "\n",
        "model.add(MaxPooling2D(pool_size=(2, 2)))\n",
        "model.add(Dropout(0.3))\n",
        "model.add(Flatten())\n",
        "model.add(Dense(128, activation=tf.nn.relu))\n",
        "model.add(Dropout(0.3))\n",
        "model.add(Dense(num_classes, activation=tf.nn.softmax))"
      ]
    },
    {
      "cell_type": "code",
      "execution_count": 10,
      "metadata": {
        "colab": {
          "base_uri": "https://localhost:8080/"
        },
        "id": "ppWgHOgTP8n7",
        "outputId": "055464bb-0b2f-4b72-c213-d9ae873a1d85"
      },
      "outputs": [
        {
          "output_type": "stream",
          "name": "stdout",
          "text": [
            "Model: \"sequential\"\n",
            "_________________________________________________________________\n",
            " Layer (type)                Output Shape              Param #   \n",
            "=================================================================\n",
            " conv2d (Conv2D)             (None, 26, 26, 128)       1280      \n",
            "                                                                 \n",
            " batch_normalization (BatchN  (None, 26, 26, 128)      512       \n",
            " ormalization)                                                   \n",
            "                                                                 \n",
            " dropout (Dropout)           (None, 26, 26, 128)       0         \n",
            "                                                                 \n",
            " conv2d_1 (Conv2D)           (None, 24, 24, 64)        73792     \n",
            "                                                                 \n",
            " batch_normalization_1 (Batc  (None, 24, 24, 64)       256       \n",
            " hNormalization)                                                 \n",
            "                                                                 \n",
            " dropout_1 (Dropout)         (None, 24, 24, 64)        0         \n",
            "                                                                 \n",
            " conv2d_2 (Conv2D)           (None, 22, 22, 32)        18464     \n",
            "                                                                 \n",
            " batch_normalization_2 (Batc  (None, 22, 22, 32)       128       \n",
            " hNormalization)                                                 \n",
            "                                                                 \n",
            " dropout_2 (Dropout)         (None, 22, 22, 32)        0         \n",
            "                                                                 \n",
            " max_pooling2d (MaxPooling2D  (None, 11, 11, 32)       0         \n",
            " )                                                               \n",
            "                                                                 \n",
            " dropout_3 (Dropout)         (None, 11, 11, 32)        0         \n",
            "                                                                 \n",
            " flatten (Flatten)           (None, 3872)              0         \n",
            "                                                                 \n",
            " dense (Dense)               (None, 128)               495744    \n",
            "                                                                 \n",
            " dropout_4 (Dropout)         (None, 128)               0         \n",
            "                                                                 \n",
            " dense_1 (Dense)             (None, 10)                1290      \n",
            "                                                                 \n",
            "=================================================================\n",
            "Total params: 591,466\n",
            "Trainable params: 591,018\n",
            "Non-trainable params: 448\n",
            "_________________________________________________________________\n"
          ]
        }
      ],
      "source": [
        "model.summary()"
      ]
    },
    {
      "cell_type": "markdown",
      "metadata": {
        "id": "v_-99DhfQAB1"
      },
      "source": [
        "# Training the model"
      ]
    },
    {
      "cell_type": "code",
      "execution_count": 11,
      "metadata": {
        "colab": {
          "base_uri": "https://localhost:8080/"
        },
        "id": "ja03MgNGQA5F",
        "outputId": "4058ad0c-e9b4-4bd4-8fdf-b9ccd0ffb52a"
      },
      "outputs": [
        {
          "output_type": "stream",
          "name": "stdout",
          "text": [
            "Epoch 1/10\n",
            "1688/1688 [==============================] - 625s 370ms/step - loss: 0.2677 - accuracy: 0.9221 - val_loss: 0.0704 - val_accuracy: 0.9820\n",
            "Epoch 2/10\n",
            "1688/1688 [==============================] - 619s 367ms/step - loss: 0.1101 - accuracy: 0.9677 - val_loss: 0.1294 - val_accuracy: 0.9767\n",
            "Epoch 3/10\n",
            "1688/1688 [==============================] - 619s 367ms/step - loss: 0.0897 - accuracy: 0.9739 - val_loss: 0.1017 - val_accuracy: 0.9822\n",
            "Epoch 4/10\n",
            "1688/1688 [==============================] - 605s 358ms/step - loss: 0.0754 - accuracy: 0.9777 - val_loss: 0.0987 - val_accuracy: 0.9838\n",
            "Epoch 5/10\n",
            "1688/1688 [==============================] - 599s 355ms/step - loss: 0.0632 - accuracy: 0.9812 - val_loss: 0.1252 - val_accuracy: 0.9797\n",
            "Epoch 6/10\n",
            "1688/1688 [==============================] - 603s 357ms/step - loss: 0.0601 - accuracy: 0.9822 - val_loss: 0.1502 - val_accuracy: 0.9778\n",
            "Epoch 7/10\n",
            "1688/1688 [==============================] - 597s 354ms/step - loss: 0.0540 - accuracy: 0.9845 - val_loss: 0.1113 - val_accuracy: 0.9843\n",
            "Epoch 8/10\n",
            "1688/1688 [==============================] - 597s 353ms/step - loss: 0.0501 - accuracy: 0.9854 - val_loss: 0.1028 - val_accuracy: 0.9858\n",
            "Epoch 9/10\n",
            "1688/1688 [==============================] - 595s 353ms/step - loss: 0.0446 - accuracy: 0.9868 - val_loss: 0.1335 - val_accuracy: 0.9832\n",
            "Epoch 10/10\n",
            "1688/1688 [==============================] - 597s 354ms/step - loss: 0.0437 - accuracy: 0.9870 - val_loss: 0.1006 - val_accuracy: 0.9853\n"
          ]
        }
      ],
      "source": [
        "# Train the model\n",
        "model.compile(optimizer='adam', \n",
        "              loss='sparse_categorical_crossentropy', \n",
        "              metrics=['accuracy'])\n",
        "history=model.fit(x=x_train,\n",
        "                  y=y_train,\n",
        "                  validation_split=0.1,\n",
        "                  epochs=10)"
      ]
    },
    {
      "cell_type": "markdown",
      "metadata": {
        "id": "DQxQHzhKQHdf"
      },
      "source": [
        "# Saving and loading the model"
      ]
    },
    {
      "cell_type": "code",
      "execution_count": 12,
      "metadata": {
        "id": "udLpv0adQG7d"
      },
      "outputs": [],
      "source": [
        "model.save('MNproject.h5')"
      ]
    },
    {
      "cell_type": "code",
      "execution_count": 13,
      "metadata": {
        "id": "ro-Yrn1OSZsD"
      },
      "outputs": [],
      "source": [
        "from tensorflow.keras.models import load_model\n",
        "model = load_model('MNproject.h5')"
      ]
    },
    {
      "cell_type": "markdown",
      "metadata": {
        "id": "DknjiCTSodoW"
      },
      "source": [
        ""
      ]
    },
    {
      "cell_type": "markdown",
      "metadata": {
        "id": "QoMfNy5bScf7"
      },
      "source": [
        "# Evaluating the model"
      ]
    },
    {
      "cell_type": "code",
      "execution_count": 14,
      "metadata": {
        "id": "zwu5-LLySfhg",
        "colab": {
          "base_uri": "https://localhost:8080/"
        },
        "outputId": "2173ebe7-61e5-446c-ab83-52c255272fb6"
      },
      "outputs": [
        {
          "output_type": "stream",
          "name": "stdout",
          "text": [
            "313/313 [==============================] - 23s 73ms/step - loss: 0.0873 - accuracy: 0.9840\n",
            "Test Loss 0.08725825697183609\n",
            "Test Accuracy 0.984000027179718\n"
          ]
        }
      ],
      "source": [
        "# Evaluate the model\n",
        "loss_and_acc=model.evaluate(x_test,y_test)\n",
        "print(\"Test Loss\", loss_and_acc[0])\n",
        "print(\"Test Accuracy\", loss_and_acc[1])"
      ]
    },
    {
      "cell_type": "markdown",
      "metadata": {
        "id": "N5sBPixHSlPx"
      },
      "source": [
        "# Plotting Training & Validation plots"
      ]
    },
    {
      "cell_type": "code",
      "execution_count": 15,
      "metadata": {
        "id": "JCuyzERHSjYI",
        "colab": {
          "base_uri": "https://localhost:8080/",
          "height": 417
        },
        "outputId": "5ed71b01-6e81-4833-d875-768f5ed4c440"
      },
      "outputs": [
        {
          "output_type": "display_data",
          "data": {
            "text/plain": [
              "<Figure size 1440x432 with 2 Axes>"
            ],
            "image/png": "[encoded data removed]"
          },
          "metadata": {
            "needs_background": "light"
          }
        }
      ],
      "source": [
        "acc = history.history['accuracy']\n",
        "val_acc = history.history['val_accuracy']\n",
        "loss = history.history['loss']\n",
        "val_loss = history.history['val_loss']\n",
        "epochs = range(len(acc))\n",
        "\n",
        "fig, ax = plt.subplots(nrows=1, ncols=2, figsize=(20, 6))\n",
        "ax[0].plot(epochs, acc, 'b', label='Training accuracy')\n",
        "ax[0].plot(epochs, val_acc, 'r', label='Validation accuracy')\n",
        "ax[0].legend(loc=0)\n",
        "ax[1].plot(epochs, loss, 'b', label='Training loss')\n",
        "ax[1].plot(epochs, val_loss, 'r', label='Validation loss')\n",
        "ax[1].legend(loc=0)\n",
        "\n",
        "plt.suptitle('Training and validation')\n",
        "plt.show()"
      ]
    },
    {
      "cell_type": "code",
      "execution_count": 16,
      "metadata": {
        "id": "dGCVCI51Sqsz",
        "colab": {
          "base_uri": "https://localhost:8080/"
        },
        "outputId": "35e978b2-d4a1-44df-983f-6833c3fa0fb3"
      },
      "outputs": [
        {
          "output_type": "execute_result",
          "data": {
            "text/plain": [
              "<tf.Tensor: shape=(10, 10), dtype=int32, numpy=\n",
              "array([[ 976,    0,    0,    0,    0,    0,    3,    1,    0,    0],\n",
              "       [   0, 1130,    1,    2,    0,    2,    0,    0,    0,    0],\n",
              "       [   2,   14, 1000,    6,    0,    0,    0,   10,    0,    0],\n",
              "       [   0,    0,    0, 1007,    0,    1,    0,    2,    0,    0],\n",
              "       [   1,    4,    1,    0,  953,    0,    5,    3,    1,   14],\n",
              "       [   1,    0,    0,    8,    0,  881,    1,    1,    0,    0],\n",
              "       [   5,    3,    0,    0,    1,    4,  945,    0,    0,    0],\n",
              "       [   0,    4,    0,    1,    0,    0,    0, 1022,    1,    0],\n",
              "       [   2,    3,    2,    9,    1,    3,    2,    2,  938,   12],\n",
              "       [   2,    3,    0,    4,    2,    4,    0,    5,    1,  988]],\n",
              "      dtype=int32)>"
            ]
          },
          "metadata": {},
          "execution_count": 16
        }
      ],
      "source": [
        "# Confusion Matrix\n",
        "y_predicted = model.predict(x_test)\n",
        "y_predicted_labels = [np.argmax(i) for i in y_predicted]\n",
        "cm = tf.math.confusion_matrix(labels=y_test,predictions=y_predicted_labels)\n",
        "cm"
      ]
    },
    {
      "cell_type": "markdown",
      "metadata": {
        "id": "A57yWjrESr5p"
      },
      "source": [
        "# Plotting heat map"
      ]
    },
    {
      "cell_type": "code",
      "execution_count": 17,
      "metadata": {
        "id": "KfXb4dFGSv3q",
        "colab": {
          "base_uri": "https://localhost:8080/",
          "height": 459
        },
        "outputId": "ee2096ca-7691-4d9f-b1a2-de2bfc5889ef"
      },
      "outputs": [
        {
          "output_type": "execute_result",
          "data": {
            "text/plain": [
              "Text(105.0, 0.5, 'Truth')"
            ]
          },
          "metadata": {},
          "execution_count": 17
        },
        {
          "output_type": "display_data",
          "data": {
            "text/plain": [
              "<Figure size 1008x504 with 2 Axes>"
            ],
            "image/png": "[encoded data removed]"
          },
          "metadata": {
            "needs_background": "light"
          }
        }
      ],
      "source": [
        "plt.figure(figsize = (14,7))\n",
        "sns.heatmap(cm, annot=True, fmt='d', cmap = 'mako')\n",
        "plt.xlabel('Predicted')\n",
        "plt.ylabel('Truth')"
      ]
    },
    {
      "cell_type": "markdown",
      "metadata": {
        "id": "_IZ0znX7S020"
      },
      "source": [
        "# Testing the Model"
      ]
    },
    {
      "cell_type": "code",
      "source": [
        "plt.imshow(grid_data, cmap='gray')\n",
        "plt.title('Actual Value: {}'.format(y_test[7]))\n",
        "prediction=model.predict(x_test)\n",
        "\n",
        "plt.axis('off')\n",
        "print('Predicted Value: ',np.argmax(prediction[7]))\n",
        "if(y_test[7]==(np.argmax(prediction[7]))):\n",
        "  print('Successful prediction')\n",
        "else:\n",
        "  print('Unsuccessful prediction')"
      ],
      "metadata": {
        "colab": {
          "base_uri": "https://localhost:8080/",
          "height": 299
        },
        "id": "vw3s198j09NT",
        "outputId": "266edfaf-0dbc-4baf-e048-22f0360be038"
      },
      "execution_count": 31,
      "outputs": [
        {
          "output_type": "stream",
          "name": "stdout",
          "text": [
            "Predicted Value:  9\n",
            "Successful prediction\n"
          ]
        },
        {
          "output_type": "display_data",
          "data": {
            "text/plain": [
              "<Figure size 432x288 with 1 Axes>"
            ],
            "image/png": "[encoded data removed]"
          },
          "metadata": {
            "needs_background": "light"
          }
        }
      ]
    },
    {
      "cell_type": "code",
      "source": [
        "plt.imshow(grid_data, cmap='gray')\n",
        "plt.title('Actual Value: {}'.format(y_test[1]))\n",
        "prediction=model.predict(x_test)\n",
        "plt.axis('off')\n",
        "print('Predicted Value: ',np.argmax(prediction[1]))\n",
        "if(y_test[1]==(np.argmax(prediction[1]))):\n",
        "  print('Successful prediction')\n",
        "else:\n",
        "  print('Unsuccessful prediction')"
      ],
      "metadata": {
        "colab": {
          "base_uri": "https://localhost:8080/",
          "height": 299
        },
        "id": "cFY2llqU1Amw",
        "outputId": "f7917f09-f258-4aa2-b3b5-b4a984aa158f"
      },
      "execution_count": 34,
      "outputs": [
        {
          "output_type": "stream",
          "name": "stdout",
          "text": [
            "Predicted Value:  2\n",
            "Successful prediction\n"
          ]
        },
        {
          "output_type": "display_data",
          "data": {
            "text/plain": [
              "<Figure size 432x288 with 1 Axes>"
            ],
            "image/png": "[encoded data removed]"
          },
          "metadata": {
            "needs_background": "light"
          }
        }
      ]
    }
  ],
  "metadata": {
    "colab": {
      "collapsed_sections": [],
      "name": "Neural Network that can read handwriting.ipynb",
      "provenance": [],
      "authorship_tag": "ABX9TyNpggX8GIbMGXH6780H8ivM",
      "include_colab_link": true
    },
    "kernelspec": {
      "display_name": "Python 3",
      "name": "python3"
    },
    "language_info": {
      "name": "python"
    }
  },
  "nbformat": 4,
  "nbformat_minor": 0
}